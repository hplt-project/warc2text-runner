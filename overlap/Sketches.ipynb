{
 "cells": [
  {
   "cell_type": "code",
   "execution_count": 1,
   "id": "7fab2e7e",
   "metadata": {},
   "outputs": [],
   "source": [
    "import gzip\n",
    "import psutil\n",
    "from itertools import islice\n",
    "import sys\n",
    "from math import sqrt, log\n",
    "from time import time\n",
    "import seaborn as sns\n",
    "import pandas as pd"
   ]
  },
  {
   "cell_type": "markdown",
   "id": "9df0e2b4",
   "metadata": {},
   "source": [
    "# HyperLogLog implementations"
   ]
  },
  {
   "cell_type": "markdown",
   "id": "56ffcb1c",
   "metadata": {},
   "source": [
    "## hyperloglog: "
   ]
  },
  {
   "cell_type": "code",
   "execution_count": 1,
   "id": "f2e8cd4e",
   "metadata": {},
   "outputs": [
    {
     "name": "stdout",
     "output_type": "stream",
     "text": [
      "Collecting hyperloglog\n",
      "  Using cached hyperloglog-0.0.14.tar.gz (36 kB)\n",
      "  Preparing metadata (setup.py) ... \u001b[?25ldone\n",
      "\u001b[?25hBuilding wheels for collected packages: hyperloglog\n",
      "  Building wheel for hyperloglog (setup.py) ... \u001b[?25ldone\n",
      "\u001b[?25h  Created wheel for hyperloglog: filename=hyperloglog-0.0.14-py3-none-any.whl size=37927 sha256=93cd212bb5b897c0f1829b5f9e02a125c0c6ca16cb74ffa2512b1d8d5edf4bdd\n",
      "  Stored in directory: /home/nikolare/.cache/pip/wheels/76/d9/23/3d8ebf80b75462b1c231ced0ae5834eb144e777a79db528289\n",
      "Successfully built hyperloglog\n",
      "Installing collected packages: hyperloglog\n",
      "Successfully installed hyperloglog-0.0.14\n"
     ]
    }
   ],
   "source": [
    "!pip install hyperloglog"
   ]
  },
  {
   "cell_type": "code",
   "execution_count": 8,
   "id": "b79be0f6",
   "metadata": {},
   "outputs": [
    {
     "name": "stdout",
     "output_type": "stream",
     "text": [
      "number of registers:  65536\n",
      "theoretical relative standard error:  0.0040625\n",
      "empirical relative error:  -0.001088252159224078\n",
      "14.6 s ± 0 ns per loop (mean ± std. dev. of 1 run, 1 loop each)\n"
     ]
    }
   ],
   "source": [
    "%%timeit -n 1 -r 1\n",
    "import hyperloglog\n",
    "card = 10**7\n",
    "hll = hyperloglog.HyperLogLog(0.005)  # error rate 0.5%\n",
    "for i in range(card):\n",
    "    hll.add(str(i))\n",
    "estimate = hll.card()\n",
    "nreg = hll.m\n",
    "print('number of registers: ', nreg) \n",
    "print('theoretical relative standard error: ', 1.04 / sqrt(nreg))\n",
    "print('empirical relative error: ', (estimate - card) / card)"
   ]
  },
  {
   "cell_type": "markdown",
   "id": "51dd53c6",
   "metadata": {},
   "source": [
    "### 14.6s for adding 10M items => 4h for 10B"
   ]
  },
  {
   "cell_type": "markdown",
   "id": "41476c96",
   "metadata": {},
   "source": [
    "## HLL:"
   ]
  },
  {
   "cell_type": "code",
   "execution_count": 12,
   "id": "041ad8a6",
   "metadata": {},
   "outputs": [
    {
     "name": "stdout",
     "output_type": "stream",
     "text": [
      "Requirement already satisfied: HLL in /home/nikolare/anaconda3/envs/jupyterai/lib/python3.10/site-packages (2.0.3)\r\n"
     ]
    }
   ],
   "source": [
    "!pip install HLL"
   ]
  },
  {
   "cell_type": "code",
   "execution_count": 22,
   "id": "9569e964",
   "metadata": {},
   "outputs": [
    {
     "name": "stdout",
     "output_type": "stream",
     "text": [
      "number of registers:  65536\n",
      "theoretical relative standard error:  0.0040625\n",
      "empirical relative error:  -0.0058843\n"
     ]
    }
   ],
   "source": [
    "# %%timeit -n 1 -r 1\n",
    "from HLL import HyperLogLog\n",
    "card = 10**7\n",
    "hll = HyperLogLog(16, sparse=False) # use 2^16 registers for error rate 0.5%\n",
    "for i in range(10**7):\n",
    "    hll.add(str(i))\n",
    "\n",
    "estimate = hll.cardinality()\n",
    "nreg = hll.size()\n",
    "print('number of registers: ', nreg) \n",
    "print('theoretical relative standard error: ', 1.04 / sqrt(nreg))\n",
    "print('empirical relative error: ', (estimate - card) / card)"
   ]
  },
  {
   "cell_type": "markdown",
   "id": "331f81ea",
   "metadata": {},
   "source": [
    "### 1.85s for adding 10M items = > 0.5h for 10B"
   ]
  },
  {
   "cell_type": "code",
   "execution_count": 10,
   "id": "5c5b906b",
   "metadata": {},
   "outputs": [
    {
     "name": "stdout",
     "output_type": "stream",
     "text": [
      "22.136672735214233 -0.02985981 0.0325\n",
      "22.2760169506073 -0.00121852 0.001015625\n",
      "37.752153158187866 -2.125e-05 3.173828125e-05\n"
     ]
    }
   ],
   "source": [
    "from math import sqrt\n",
    "from HLL import HyperLogLog\n",
    "card = 10**8\n",
    "for p in range(10,40, 10):\n",
    "    hll = HyperLogLog(p=p, sparse=False)\n",
    "    st = time()\n",
    "    for i in range(card):\n",
    "        hll.add(str(i))\n",
    "\n",
    "    print(time()-st,  (hll.cardinality()-card)/card, 1.04 / sqrt(2**p))"
   ]
  },
  {
   "cell_type": "markdown",
   "id": "2d6bb877",
   "metadata": {},
   "source": [
    "### 20 / 40 s for adding 100M items => 0.8/1.6 h for 10B items with relative stderr of 0.1% / 0.003%"
   ]
  },
  {
   "cell_type": "markdown",
   "id": "d9bd2071",
   "metadata": {},
   "source": [
    "## datasketch:"
   ]
  },
  {
   "cell_type": "code",
   "execution_count": 11,
   "id": "6c8d7326",
   "metadata": {},
   "outputs": [
    {
     "name": "stdout",
     "output_type": "stream",
     "text": [
      "Collecting datasketch\n",
      "  Using cached datasketch-1.5.9-py3-none-any.whl (76 kB)\n",
      "Requirement already satisfied: numpy>=1.11 in /home/nikolare/anaconda3/envs/jupyterai/lib/python3.10/site-packages (from datasketch) (1.25.2)\n",
      "Collecting scipy>=1.0.0 (from datasketch)\n",
      "  Obtaining dependency information for scipy>=1.0.0 from https://files.pythonhosted.org/packages/a8/cc/c36f3439f5d47c3b13833ce6687b43a040cc7638c502ac46b41e2d4f3d6f/scipy-1.11.2-cp310-cp310-manylinux_2_17_x86_64.manylinux2014_x86_64.whl.metadata\n",
      "  Downloading scipy-1.11.2-cp310-cp310-manylinux_2_17_x86_64.manylinux2014_x86_64.whl.metadata (59 kB)\n",
      "\u001b[2K     \u001b[38;2;114;156;31m━━━━━━━━━━━━━━━━━━━━━━━━━━━━━━━━━━━━━━━━\u001b[0m \u001b[32m59.1/59.1 kB\u001b[0m \u001b[31m2.3 MB/s\u001b[0m eta \u001b[36m0:00:00\u001b[0m\n",
      "\u001b[?25hDownloading scipy-1.11.2-cp310-cp310-manylinux_2_17_x86_64.manylinux2014_x86_64.whl (36.3 MB)\n",
      "\u001b[2K   \u001b[38;2;114;156;31m━━━━━━━━━━━━━━━━━━━━━━━━━━━━━━━━━━━━━━━━\u001b[0m \u001b[32m36.3/36.3 MB\u001b[0m \u001b[31m11.2 MB/s\u001b[0m eta \u001b[36m0:00:00\u001b[0mm eta \u001b[36m0:00:01\u001b[0m0:01\u001b[0m:01\u001b[0m\n",
      "\u001b[?25hInstalling collected packages: scipy, datasketch\n",
      "Successfully installed datasketch-1.5.9 scipy-1.11.2\n"
     ]
    }
   ],
   "source": [
    "!pip install datasketch"
   ]
  },
  {
   "cell_type": "code",
   "execution_count": 3,
   "id": "1de5133b",
   "metadata": {},
   "outputs": [
    {
     "name": "stdout",
     "output_type": "stream",
     "text": [
      "number of registers:  65536\n",
      "theoretical relative standard error:  0.0040625\n",
      "empirical relative error:  -0.0034109912245158104\n",
      "34.4 s ± 0 ns per loop (mean ± std. dev. of 1 run, 1 loop each)\n"
     ]
    }
   ],
   "source": [
    "%%timeit -n 1 -r 1\n",
    "from datasketch import HyperLogLogPlusPlus\n",
    "hll = HyperLogLogPlusPlus(16)  # 2**16 registers give 0.5% relative stderr\n",
    "card = 10**7\n",
    "for i in range(card):\n",
    "    hll.update(str(i).encode('utf-8'))\n",
    "\n",
    "estimate = hll.count()\n",
    "nreg = hll.m\n",
    "print('number of registers: ', nreg) \n",
    "print('theoretical relative standard error: ', 1.04 / sqrt(nreg))\n",
    "print('empirical relative error: ', (estimate - card) / card)"
   ]
  },
  {
   "cell_type": "code",
   "execution_count": 4,
   "id": "47841de0",
   "metadata": {},
   "outputs": [
    {
     "name": "stdout",
     "output_type": "stream",
     "text": [
      "number of registers:  65536\n",
      "theoretical relative standard error:  0.0040625\n",
      "empirical relative error:  -0.001774693542262353\n",
      "34.7 s ± 0 ns per loop (mean ± std. dev. of 1 run, 1 loop each)\n"
     ]
    }
   ],
   "source": [
    "%%timeit -n 1 -r 1\n",
    "from datasketch import HyperLogLog\n",
    "hll = HyperLogLog(16)  # 2**16 registers give 0.5% relative stderr\n",
    "card = 10**7\n",
    "for i in range(card):\n",
    "    hll.update(str(i).encode('utf-8'))\n",
    "\n",
    "estimate = hll.count()\n",
    "nreg = hll.m\n",
    "print('number of registers: ', nreg) \n",
    "print('theoretical relative standard error: ', 1.04 / sqrt(nreg))\n",
    "print('empirical relative error: ', (estimate - card) / card)"
   ]
  },
  {
   "cell_type": "markdown",
   "id": "d92013ca",
   "metadata": {},
   "source": [
    "### Slower than previous ones!"
   ]
  },
  {
   "cell_type": "markdown",
   "id": "d057b2c5",
   "metadata": {},
   "source": [
    "## dnbaker/sketch:"
   ]
  },
  {
   "cell_type": "code",
   "execution_count": 5,
   "id": "0a173a57",
   "metadata": {},
   "outputs": [
    {
     "name": "stdout",
     "output_type": "stream",
     "text": [
      "Cloning into 'sketch'...\n",
      "remote: Enumerating objects: 8263, done.\u001b[K\n",
      "remote: Counting objects: 100% (630/630), done.\u001b[K\n",
      "remote: Compressing objects: 100% (189/189), done.\u001b[K\n",
      "remote: Total 8263 (delta 483), reused 537 (delta 440), pack-reused 7633\u001b[K\n",
      "Receiving objects: 100% (8263/8263), 4.57 MiB | 10.05 MiB/s, done.\n",
      "Resolving deltas: 100% (6022/6022), done.\n",
      "Submodule 'include/vec/sleef' (https://github.com/shibatch/sleef/) registered for path 'include/vec/sleef'\n",
      "Submodule 'pybind11' (https://github.com/pybind/pybind11) registered for path 'pybind11'\n",
      "Cloning into '/home/nikolare/_projects/hplt/warc2text-runner/overlap/sketch/include/vec/sleef'...\n",
      "remote: Enumerating objects: 4865, done.        \n",
      "remote: Counting objects: 100% (170/170), done.        \n",
      "remote: Compressing objects: 100% (98/98), done.        \n",
      "remote: Total 4865 (delta 97), reused 125 (delta 72), pack-reused 4695        \n",
      "Receiving objects: 100% (4865/4865), 4.68 MiB | 7.62 MiB/s, done.\n",
      "Resolving deltas: 100% (3820/3820), done.\n",
      "Cloning into '/home/nikolare/_projects/hplt/warc2text-runner/overlap/sketch/pybind11'...\n",
      "remote: Enumerating objects: 26920, done.        \n",
      "remote: Counting objects: 100% (839/839), done.        \n",
      "remote: Compressing objects: 100% (303/303), done.        \n",
      "remote: Total 26920 (delta 540), reused 701 (delta 484), pack-reused 26081        \n",
      "Receiving objects: 100% (26920/26920), 10.61 MiB | 8.69 MiB/s, done.\n",
      "Resolving deltas: 100% (18867/18867), done.\n",
      "Submodule path 'include/vec/sleef': checked out '0b3c2edb5a0b53d2ffa1062c0fcb189ec20cedba'\n",
      "Submodule path 'pybind11': checked out 'd462dd91a58116a043974b198462864a527e84ca'\n"
     ]
    }
   ],
   "source": [
    "!rm -rf sketch && git clone --recursive https://github.com/dnbaker/sketch"
   ]
  },
  {
   "cell_type": "code",
   "execution_count": 7,
   "id": "15630b92",
   "metadata": {},
   "outputs": [
    {
     "name": "stdout",
     "output_type": "stream",
     "text": [
      "Note: switching to 'cddae5fb5293b5024cd9fd2662d423214461c77b'.\r\n",
      "\r\n",
      "You are in 'detached HEAD' state. You can look around, make experimental\r\n",
      "changes and commit them, and you can discard any commits you make in this\r\n",
      "state without impacting any branches by switching back to a branch.\r\n",
      "\r\n",
      "If you want to create a new branch to retain commits you create, you may\r\n",
      "do so (now or later) by using -c with the switch command. Example:\r\n",
      "\r\n",
      "  git switch -c <new-branch-name>\r\n",
      "\r\n",
      "Or undo this operation with:\r\n",
      "\r\n",
      "  git switch -\r\n",
      "\r\n",
      "Turn off this advice by setting config variable advice.detachedHead to false\r\n",
      "\r\n",
      "HEAD is now at cddae5f Update compact_vector to eliminate warnings.\r\n"
     ]
    }
   ],
   "source": [
    "!cd sketch; git checkout cddae5fb5293b5024cd9fd2662d423214461c77b  # python bindings don't work in the last commit "
   ]
  },
  {
   "cell_type": "code",
   "execution_count": 8,
   "id": "d1c2e271",
   "metadata": {},
   "outputs": [
    {
     "name": "stdout",
     "output_type": "stream",
     "text": [
      "/home/nikolare/anaconda3/envs/jupyterai/lib/python3.10/site-packages/setuptools/__init__.py:84: _DeprecatedInstaller: setuptools.installer and fetch_build_eggs are deprecated.\n",
      "!!\n",
      "\n",
      "        ********************************************************************************\n",
      "        Requirements should be satisfied by a PEP 517 installer.\n",
      "        If you are using pip, you can try `pip install --use-pep517`.\n",
      "        ********************************************************************************\n",
      "\n",
      "!!\n",
      "  dist.fetch_build_eggs(dist.setup_requires)\n",
      "/home/nikolare/anaconda3/envs/jupyterai/lib/python3.10/site-packages/setuptools/dist.py:509: InformationOnly: Normalizing 'v0.18' to '0.18'\n",
      "  self.metadata.version = self._normalize_version(\n",
      "running build_ext\n",
      "creating tmp\n",
      "gcc -pthread -B /home/nikolare/anaconda3/envs/jupyterai/compiler_compat -Wno-unused-result -Wsign-compare -DNDEBUG -fwrapv -O2 -Wall -fPIC -O2 -isystem /home/nikolare/anaconda3/envs/jupyterai/include -fPIC -O2 -isystem /home/nikolare/anaconda3/envs/jupyterai/include -fPIC -I/home/nikolare/anaconda3/envs/jupyterai/include/python3.10 -c /tmp/tmp9ihnlsdy.cpp -o tmp/tmp9ihnlsdy.o -std=c++2a\n",
      "gcc -pthread -B /home/nikolare/anaconda3/envs/jupyterai/compiler_compat -Wno-unused-result -Wsign-compare -DNDEBUG -fwrapv -O2 -Wall -fPIC -O2 -isystem /home/nikolare/anaconda3/envs/jupyterai/include -fPIC -O2 -isystem /home/nikolare/anaconda3/envs/jupyterai/include -fPIC -I/home/nikolare/anaconda3/envs/jupyterai/include/python3.10 -c /tmp/tmpoa55dwds.cpp -o tmp/tmpoa55dwds.o -fvisibility=hidden\n",
      "building 'sketch_hll' extension\n",
      "building 'sketch_bbmh' extension\n",
      "building 'sketch_bf' extension\n",
      "building 'sketch_util' extension\n",
      "creating build\n",
      "creating build/temp.linux-x86_64-cpython-310\n",
      "gcc -pthread -B /home/nikolare/anaconda3/envs/jupyterai/compiler_compat -Wno-unused-result -Wsign-compare -DNDEBUG -fwrapv -O2 -Wall -fPIC -O2 -isystem /home/nikolare/anaconda3/envs/jupyterai/include -fPIC -O2 -isystem /home/nikolare/anaconda3/envs/jupyterai/include -fPIC -I/home/nikolare/_projects/hplt/warc2text-runner/overlap/sketch/python/.eggs/pybind11-2.11.1-py3.10.egg/pybind11/include -I/home/nikolare/_projects/hplt/warc2text-runner/overlap/sketch/python/.eggs/pybind11-2.11.1-py3.10.egg/pybind11/include -I../ -I../libpopcnt -I../include -I../include/vec -I../include/blaze -I../.. -I../pybind11/include -I/home/nikolare/anaconda3/envs/jupyterai/include/python3.10 -c util.cpp -o build/temp.linux-x86_64-cpython-310/util.o -DVERSION_INFO=\\\"0.18\\\" -std=c++2a -fvisibility=hidden -march=native -Wno-char-subscripts -Wno-unused-function -Wno-strict-aliasing -Wno-ignored-attributes -fno-wrapv -lz -DNDEBUG -DBLAZE_SHARED_MEMORY_PARALLELIZATION=0 -O3 -fopenmp -lgomp -march=native -Wno-char-subscripts -Wno-unused-function -Wno-strict-aliasing -Wno-ignored-attributes -fno-wrapv -lz -DNDEBUG -DBLAZE_SHARED_MEMORY_PARALLELIZATION=0 -O3 -fopenmp -lgomp -march=native -Wno-char-subscripts -Wno-unused-function -Wno-strict-aliasing -Wno-ignored-attributes -fno-wrapv -lz -DNDEBUG -DBLAZE_SHARED_MEMORY_PARALLELIZATION=0 -O3 -fopenmp -lgomp -march=native -Wno-char-subscripts -Wno-unused-function -Wno-strict-aliasing -Wno-ignored-attributes -fno-wrapv -lz -DNDEBUG -DBLAZE_SHARED_MEMORY_PARALLELIZATION=0 -O3 -fopenmp -lgomp -march=native -Wno-char-subscripts -Wno-unused-function -Wno-strict-aliasing -Wno-ignored-attributes -fno-wrapv -lz -DNDEBUG -DBLAZE_SHARED_MEMORY_PARALLELIZATION=0 -O3 -fopenmp -lgomp -march=native -Wno-char-subscripts -Wno-unused-function -Wno-strict-aliasing -Wno-ignored-attributes -fno-wrapv -lz -DNDEBUG -DBLAZE_SHARED_MEMORY_PARALLELIZATION=0 -O3 -fopenmp -lgomp -march=native -Wno-char-subscripts -Wno-unused-function -Wno-strict-aliasing -Wno-ignored-attributes -fno-wrapv -lz -DNDEBUG -DBLAZE_SHARED_MEMORY_PARALLELIZATION=0 -O3 -fopenmp -lgomp\n",
      "gcc -pthread -B /home/nikolare/anaconda3/envs/jupyterai/compiler_compat -Wno-unused-result -Wsign-compare -DNDEBUG -fwrapv -O2 -Wall -fPIC -O2 -isystem /home/nikolare/anaconda3/envs/jupyterai/include -fPIC -O2 -isystem /home/nikolare/anaconda3/envs/jupyterai/include -fPIC -I/home/nikolare/_projects/hplt/warc2text-runner/overlap/sketch/python/.eggs/pybind11-2.11.1-py3.10.egg/pybind11/include -I/home/nikolare/_projects/hplt/warc2text-runner/overlap/sketch/python/.eggs/pybind11-2.11.1-py3.10.egg/pybind11/include -I../ -I../libpopcnt -I../include -I../include/vec -I../include/blaze -I../.. -I../pybind11/include -I/home/nikolare/anaconda3/envs/jupyterai/include/python3.10 -c hll.cpp -o build/temp.linux-x86_64-cpython-310/hll.o -DVERSION_INFO=\\\"0.18\\\" -std=c++2a -fvisibility=hidden -march=native -Wno-char-subscripts -Wno-unused-function -Wno-strict-aliasing -Wno-ignored-attributes -fno-wrapv -lz -DNDEBUG -DBLAZE_SHARED_MEMORY_PARALLELIZATION=0 -O3 -fopenmp -lgomp -march=native -Wno-char-subscripts -Wno-unused-function -Wno-strict-aliasing -Wno-ignored-attributes -fno-wrapv -lz -DNDEBUG -DBLAZE_SHARED_MEMORY_PARALLELIZATION=0 -O3 -fopenmp -lgomp -march=native -Wno-char-subscripts -Wno-unused-function -Wno-strict-aliasing -Wno-ignored-attributes -fno-wrapv -lz -DNDEBUG -DBLAZE_SHARED_MEMORY_PARALLELIZATION=0 -O3 -fopenmp -lgomp -march=native -Wno-char-subscripts -Wno-unused-function -Wno-strict-aliasing -Wno-ignored-attributes -fno-wrapv -lz -DNDEBUG -DBLAZE_SHARED_MEMORY_PARALLELIZATION=0 -O3 -fopenmp -lgomp -march=native -Wno-char-subscripts -Wno-unused-function -Wno-strict-aliasing -Wno-ignored-attributes -fno-wrapv -lz -DNDEBUG -DBLAZE_SHARED_MEMORY_PARALLELIZATION=0 -O3 -fopenmp -lgomp -march=native -Wno-char-subscripts -Wno-unused-function -Wno-strict-aliasing -Wno-ignored-attributes -fno-wrapv -lz -DNDEBUG -DBLAZE_SHARED_MEMORY_PARALLELIZATION=0 -O3 -fopenmp -lgomp -march=native -Wno-char-subscripts -Wno-unused-function -Wno-strict-aliasing -Wno-ignored-attributes -fno-wrapv -lz -DNDEBUG -DBLAZE_SHARED_MEMORY_PARALLELIZATION=0 -O3 -fopenmp -lgomp\n",
      "gcc -pthread -B /home/nikolare/anaconda3/envs/jupyterai/compiler_compat -Wno-unused-result -Wsign-compare -DNDEBUG -fwrapv -O2 -Wall -fPIC -O2 -isystem /home/nikolare/anaconda3/envs/jupyterai/include -fPIC -O2 -isystem /home/nikolare/anaconda3/envs/jupyterai/include -fPIC -I/home/nikolare/_projects/hplt/warc2text-runner/overlap/sketch/python/.eggs/pybind11-2.11.1-py3.10.egg/pybind11/include -I/home/nikolare/_projects/hplt/warc2text-runner/overlap/sketch/python/.eggs/pybind11-2.11.1-py3.10.egg/pybind11/include -I../ -I../libpopcnt -I../include -I../include/vec -I../include/blaze -I../.. -I../pybind11/include -I/home/nikolare/anaconda3/envs/jupyterai/include/python3.10 -c bf.cpp -o build/temp.linux-x86_64-cpython-310/bf.o -DVERSION_INFO=\\\"0.18\\\" -std=c++2a -fvisibility=hidden -march=native -Wno-char-subscripts -Wno-unused-function -Wno-strict-aliasing -Wno-ignored-attributes -fno-wrapv -lz -DNDEBUG -DBLAZE_SHARED_MEMORY_PARALLELIZATION=0 -O3 -fopenmp -lgomp -march=native -Wno-char-subscripts -Wno-unused-function -Wno-strict-aliasing -Wno-ignored-attributes -fno-wrapv -lz -DNDEBUG -DBLAZE_SHARED_MEMORY_PARALLELIZATION=0 -O3 -fopenmp -lgomp -march=native -Wno-char-subscripts -Wno-unused-function -Wno-strict-aliasing -Wno-ignored-attributes -fno-wrapv -lz -DNDEBUG -DBLAZE_SHARED_MEMORY_PARALLELIZATION=0 -O3 -fopenmp -lgomp -march=native -Wno-char-subscripts -Wno-unused-function -Wno-strict-aliasing -Wno-ignored-attributes -fno-wrapv -lz -DNDEBUG -DBLAZE_SHARED_MEMORY_PARALLELIZATION=0 -O3 -fopenmp -lgomp -march=native -Wno-char-subscripts -Wno-unused-function -Wno-strict-aliasing -Wno-ignored-attributes -fno-wrapv -lz -DNDEBUG -DBLAZE_SHARED_MEMORY_PARALLELIZATION=0 -O3 -fopenmp -lgomp -march=native -Wno-char-subscripts -Wno-unused-function -Wno-strict-aliasing -Wno-ignored-attributes -fno-wrapv -lz -DNDEBUG -DBLAZE_SHARED_MEMORY_PARALLELIZATION=0 -O3 -fopenmp -lgomp -march=native -Wno-char-subscripts -Wno-unused-function -Wno-strict-aliasing -Wno-ignored-attributes -fno-wrapv -lz -DNDEBUG -DBLAZE_SHARED_MEMORY_PARALLELIZATION=0 -O3 -fopenmp -lgomp\n",
      "gcc -pthread -B /home/nikolare/anaconda3/envs/jupyterai/compiler_compat -Wno-unused-result -Wsign-compare -DNDEBUG -fwrapv -O2 -Wall -fPIC -O2 -isystem /home/nikolare/anaconda3/envs/jupyterai/include -fPIC -O2 -isystem /home/nikolare/anaconda3/envs/jupyterai/include -fPIC -I/home/nikolare/_projects/hplt/warc2text-runner/overlap/sketch/python/.eggs/pybind11-2.11.1-py3.10.egg/pybind11/include -I/home/nikolare/_projects/hplt/warc2text-runner/overlap/sketch/python/.eggs/pybind11-2.11.1-py3.10.egg/pybind11/include -I../ -I../libpopcnt -I../include -I../include/vec -I../include/blaze -I../.. -I../pybind11/include -I/home/nikolare/anaconda3/envs/jupyterai/include/python3.10 -c bbmh.cpp -o build/temp.linux-x86_64-cpython-310/bbmh.o -DVERSION_INFO=\\\"0.18\\\" -std=c++2a -fvisibility=hidden -march=native -Wno-char-subscripts -Wno-unused-function -Wno-strict-aliasing -Wno-ignored-attributes -fno-wrapv -lz -DNDEBUG -DBLAZE_SHARED_MEMORY_PARALLELIZATION=0 -O3 -fopenmp -lgomp -march=native -Wno-char-subscripts -Wno-unused-function -Wno-strict-aliasing -Wno-ignored-attributes -fno-wrapv -lz -DNDEBUG -DBLAZE_SHARED_MEMORY_PARALLELIZATION=0 -O3 -fopenmp -lgomp -march=native -Wno-char-subscripts -Wno-unused-function -Wno-strict-aliasing -Wno-ignored-attributes -fno-wrapv -lz -DNDEBUG -DBLAZE_SHARED_MEMORY_PARALLELIZATION=0 -O3 -fopenmp -lgomp -march=native -Wno-char-subscripts -Wno-unused-function -Wno-strict-aliasing -Wno-ignored-attributes -fno-wrapv -lz -DNDEBUG -DBLAZE_SHARED_MEMORY_PARALLELIZATION=0 -O3 -fopenmp -lgomp -march=native -Wno-char-subscripts -Wno-unused-function -Wno-strict-aliasing -Wno-ignored-attributes -fno-wrapv -lz -DNDEBUG -DBLAZE_SHARED_MEMORY_PARALLELIZATION=0 -O3 -fopenmp -lgomp -march=native -Wno-char-subscripts -Wno-unused-function -Wno-strict-aliasing -Wno-ignored-attributes -fno-wrapv -lz -DNDEBUG -DBLAZE_SHARED_MEMORY_PARALLELIZATION=0 -O3 -fopenmp -lgomp -march=native -Wno-char-subscripts -Wno-unused-function -Wno-strict-aliasing -Wno-ignored-attributes -fno-wrapv -lz -DNDEBUG -DBLAZE_SHARED_MEMORY_PARALLELIZATION=0 -O3 -fopenmp -lgomp\n"
     ]
    },
    {
     "name": "stdout",
     "output_type": "stream",
     "text": [
      "creating build/lib.linux-x86_64-cpython-310\n",
      "g++ -pthread -B /home/nikolare/anaconda3/envs/jupyterai/compiler_compat -shared -Wl,-rpath,/home/nikolare/anaconda3/envs/jupyterai/lib -Wl,-rpath-link,/home/nikolare/anaconda3/envs/jupyterai/lib -L/home/nikolare/anaconda3/envs/jupyterai/lib -Wl,-rpath,/home/nikolare/anaconda3/envs/jupyterai/lib -Wl,-rpath-link,/home/nikolare/anaconda3/envs/jupyterai/lib -L/home/nikolare/anaconda3/envs/jupyterai/lib build/temp.linux-x86_64-cpython-310/bf.o -o build/lib.linux-x86_64-cpython-310/sketch_bf.cpython-310-x86_64-linux-gnu.so -lgomp -lz\n",
      "building 'sketch_hmh' extension\n",
      "gcc -pthread -B /home/nikolare/anaconda3/envs/jupyterai/compiler_compat -Wno-unused-result -Wsign-compare -DNDEBUG -fwrapv -O2 -Wall -fPIC -O2 -isystem /home/nikolare/anaconda3/envs/jupyterai/include -fPIC -O2 -isystem /home/nikolare/anaconda3/envs/jupyterai/include -fPIC -I/home/nikolare/_projects/hplt/warc2text-runner/overlap/sketch/python/.eggs/pybind11-2.11.1-py3.10.egg/pybind11/include -I/home/nikolare/_projects/hplt/warc2text-runner/overlap/sketch/python/.eggs/pybind11-2.11.1-py3.10.egg/pybind11/include -I../ -I../libpopcnt -I../include -I../include/vec -I../include/blaze -I../.. -I../pybind11/include -I/home/nikolare/anaconda3/envs/jupyterai/include/python3.10 -c hmh.cpp -o build/temp.linux-x86_64-cpython-310/hmh.o -DVERSION_INFO=\\\"0.18\\\" -std=c++2a -fvisibility=hidden -march=native -Wno-char-subscripts -Wno-unused-function -Wno-strict-aliasing -Wno-ignored-attributes -fno-wrapv -lz -DNDEBUG -DBLAZE_SHARED_MEMORY_PARALLELIZATION=0 -O3 -fopenmp -lgomp -march=native -Wno-char-subscripts -Wno-unused-function -Wno-strict-aliasing -Wno-ignored-attributes -fno-wrapv -lz -DNDEBUG -DBLAZE_SHARED_MEMORY_PARALLELIZATION=0 -O3 -fopenmp -lgomp -march=native -Wno-char-subscripts -Wno-unused-function -Wno-strict-aliasing -Wno-ignored-attributes -fno-wrapv -lz -DNDEBUG -DBLAZE_SHARED_MEMORY_PARALLELIZATION=0 -O3 -fopenmp -lgomp -march=native -Wno-char-subscripts -Wno-unused-function -Wno-strict-aliasing -Wno-ignored-attributes -fno-wrapv -lz -DNDEBUG -DBLAZE_SHARED_MEMORY_PARALLELIZATION=0 -O3 -fopenmp -lgomp -march=native -Wno-char-subscripts -Wno-unused-function -Wno-strict-aliasing -Wno-ignored-attributes -fno-wrapv -lz -DNDEBUG -DBLAZE_SHARED_MEMORY_PARALLELIZATION=0 -O3 -fopenmp -lgomp -march=native -Wno-char-subscripts -Wno-unused-function -Wno-strict-aliasing -Wno-ignored-attributes -fno-wrapv -lz -DNDEBUG -DBLAZE_SHARED_MEMORY_PARALLELIZATION=0 -O3 -fopenmp -lgomp -march=native -Wno-char-subscripts -Wno-unused-function -Wno-strict-aliasing -Wno-ignored-attributes -fno-wrapv -lz -DNDEBUG -DBLAZE_SHARED_MEMORY_PARALLELIZATION=0 -O3 -fopenmp -lgomp\n",
      "g++ -pthread -B /home/nikolare/anaconda3/envs/jupyterai/compiler_compat -shared -Wl,-rpath,/home/nikolare/anaconda3/envs/jupyterai/lib -Wl,-rpath-link,/home/nikolare/anaconda3/envs/jupyterai/lib -L/home/nikolare/anaconda3/envs/jupyterai/lib -Wl,-rpath,/home/nikolare/anaconda3/envs/jupyterai/lib -Wl,-rpath-link,/home/nikolare/anaconda3/envs/jupyterai/lib -L/home/nikolare/anaconda3/envs/jupyterai/lib build/temp.linux-x86_64-cpython-310/bbmh.o -o build/lib.linux-x86_64-cpython-310/sketch_bbmh.cpython-310-x86_64-linux-gnu.so -lgomp -lz\n",
      "building 'sketch_ss' extension\n",
      "gcc -pthread -B /home/nikolare/anaconda3/envs/jupyterai/compiler_compat -Wno-unused-result -Wsign-compare -DNDEBUG -fwrapv -O2 -Wall -fPIC -O2 -isystem /home/nikolare/anaconda3/envs/jupyterai/include -fPIC -O2 -isystem /home/nikolare/anaconda3/envs/jupyterai/include -fPIC -I/home/nikolare/_projects/hplt/warc2text-runner/overlap/sketch/python/.eggs/pybind11-2.11.1-py3.10.egg/pybind11/include -I/home/nikolare/_projects/hplt/warc2text-runner/overlap/sketch/python/.eggs/pybind11-2.11.1-py3.10.egg/pybind11/include -I../ -I../libpopcnt -I../include -I../include/vec -I../include/blaze -I../.. -I../pybind11/include -I/home/nikolare/anaconda3/envs/jupyterai/include/python3.10 -c ss.cpp -o build/temp.linux-x86_64-cpython-310/ss.o -DVERSION_INFO=\\\"0.18\\\" -std=c++2a -fvisibility=hidden -march=native -Wno-char-subscripts -Wno-unused-function -Wno-strict-aliasing -Wno-ignored-attributes -fno-wrapv -lz -DNDEBUG -DBLAZE_SHARED_MEMORY_PARALLELIZATION=0 -O3 -fopenmp -lgomp -march=native -Wno-char-subscripts -Wno-unused-function -Wno-strict-aliasing -Wno-ignored-attributes -fno-wrapv -lz -DNDEBUG -DBLAZE_SHARED_MEMORY_PARALLELIZATION=0 -O3 -fopenmp -lgomp -march=native -Wno-char-subscripts -Wno-unused-function -Wno-strict-aliasing -Wno-ignored-attributes -fno-wrapv -lz -DNDEBUG -DBLAZE_SHARED_MEMORY_PARALLELIZATION=0 -O3 -fopenmp -lgomp -march=native -Wno-char-subscripts -Wno-unused-function -Wno-strict-aliasing -Wno-ignored-attributes -fno-wrapv -lz -DNDEBUG -DBLAZE_SHARED_MEMORY_PARALLELIZATION=0 -O3 -fopenmp -lgomp -march=native -Wno-char-subscripts -Wno-unused-function -Wno-strict-aliasing -Wno-ignored-attributes -fno-wrapv -lz -DNDEBUG -DBLAZE_SHARED_MEMORY_PARALLELIZATION=0 -O3 -fopenmp -lgomp -march=native -Wno-char-subscripts -Wno-unused-function -Wno-strict-aliasing -Wno-ignored-attributes -fno-wrapv -lz -DNDEBUG -DBLAZE_SHARED_MEMORY_PARALLELIZATION=0 -O3 -fopenmp -lgomp -march=native -Wno-char-subscripts -Wno-unused-function -Wno-strict-aliasing -Wno-ignored-attributes -fno-wrapv -lz -DNDEBUG -DBLAZE_SHARED_MEMORY_PARALLELIZATION=0 -O3 -fopenmp -lgomp\n",
      "g++ -pthread -B /home/nikolare/anaconda3/envs/jupyterai/compiler_compat -shared -Wl,-rpath,/home/nikolare/anaconda3/envs/jupyterai/lib -Wl,-rpath-link,/home/nikolare/anaconda3/envs/jupyterai/lib -L/home/nikolare/anaconda3/envs/jupyterai/lib -Wl,-rpath,/home/nikolare/anaconda3/envs/jupyterai/lib -Wl,-rpath-link,/home/nikolare/anaconda3/envs/jupyterai/lib -L/home/nikolare/anaconda3/envs/jupyterai/lib build/temp.linux-x86_64-cpython-310/hll.o -o build/lib.linux-x86_64-cpython-310/sketch_hll.cpython-310-x86_64-linux-gnu.so -lgomp -lz\n",
      "building 'sketch_lsh' extension\n",
      "gcc -pthread -B /home/nikolare/anaconda3/envs/jupyterai/compiler_compat -Wno-unused-result -Wsign-compare -DNDEBUG -fwrapv -O2 -Wall -fPIC -O2 -isystem /home/nikolare/anaconda3/envs/jupyterai/include -fPIC -O2 -isystem /home/nikolare/anaconda3/envs/jupyterai/include -fPIC -I/home/nikolare/_projects/hplt/warc2text-runner/overlap/sketch/python/.eggs/pybind11-2.11.1-py3.10.egg/pybind11/include -I/home/nikolare/_projects/hplt/warc2text-runner/overlap/sketch/python/.eggs/pybind11-2.11.1-py3.10.egg/pybind11/include -I../ -I../libpopcnt -I../include -I../include/vec -I../include/blaze -I../.. -I../pybind11/include -I/home/nikolare/anaconda3/envs/jupyterai/include/python3.10 -c lsh.cpp -o build/temp.linux-x86_64-cpython-310/lsh.o -DVERSION_INFO=\\\"0.18\\\" -std=c++2a -fvisibility=hidden -march=native -Wno-char-subscripts -Wno-unused-function -Wno-strict-aliasing -Wno-ignored-attributes -fno-wrapv -lz -DNDEBUG -DBLAZE_SHARED_MEMORY_PARALLELIZATION=0 -O3 -fopenmp -lgomp -march=native -Wno-char-subscripts -Wno-unused-function -Wno-strict-aliasing -Wno-ignored-attributes -fno-wrapv -lz -DNDEBUG -DBLAZE_SHARED_MEMORY_PARALLELIZATION=0 -O3 -fopenmp -lgomp -march=native -Wno-char-subscripts -Wno-unused-function -Wno-strict-aliasing -Wno-ignored-attributes -fno-wrapv -lz -DNDEBUG -DBLAZE_SHARED_MEMORY_PARALLELIZATION=0 -O3 -fopenmp -lgomp -march=native -Wno-char-subscripts -Wno-unused-function -Wno-strict-aliasing -Wno-ignored-attributes -fno-wrapv -lz -DNDEBUG -DBLAZE_SHARED_MEMORY_PARALLELIZATION=0 -O3 -fopenmp -lgomp -march=native -Wno-char-subscripts -Wno-unused-function -Wno-strict-aliasing -Wno-ignored-attributes -fno-wrapv -lz -DNDEBUG -DBLAZE_SHARED_MEMORY_PARALLELIZATION=0 -O3 -fopenmp -lgomp -march=native -Wno-char-subscripts -Wno-unused-function -Wno-strict-aliasing -Wno-ignored-attributes -fno-wrapv -lz -DNDEBUG -DBLAZE_SHARED_MEMORY_PARALLELIZATION=0 -O3 -fopenmp -lgomp -march=native -Wno-char-subscripts -Wno-unused-function -Wno-strict-aliasing -Wno-ignored-attributes -fno-wrapv -lz -DNDEBUG -DBLAZE_SHARED_MEMORY_PARALLELIZATION=0 -O3 -fopenmp -lgomp\n",
      "In file included from \u001b[01m\u001b[Kpysketch.h:15\u001b[m\u001b[K,\n",
      "                 from \u001b[01m\u001b[Kutil.cpp:1\u001b[m\u001b[K:\n",
      "\u001b[01m\u001b[K../include/sketch/hmh.h:\u001b[m\u001b[K In member function ‘\u001b[01m\u001b[Kdouble sketch::hmh::hmh_t::union_size(const sketch::hmh::hmh_t&) const\u001b[m\u001b[K’:\n",
      "\u001b[01m\u001b[K../include/sketch/hmh.h:424:65:\u001b[m\u001b[K \u001b[01;35m\u001b[Kwarning: \u001b[m\u001b[K‘\u001b[01m\u001b[Krems\u001b[m\u001b[K’ may be used uninitialized [\u001b[01;35m\u001b[K\u001b]8;;https://gcc.gnu.org/onlinedocs/gcc/Warning-Options.html#index-Wmaybe-uninitialized\u0007-Wmaybe-uninitialized\u001b]8;;\u0007\u001b[m\u001b[K]\n",
      "  424 |                 ret += mrx2 - double(((const type *)&rems)[j\u001b[01;35m\u001b[K]\u001b[m\u001b[K) * mri * INVPOWERSOFTWO[((const type *)&lzcs)[j]];\\\n",
      "      |                                                             \u001b[01;35m\u001b[K^\u001b[m\u001b[K\n",
      "\n",
      "\u001b[01m\u001b[K../include/sketch/hmh.h:424:65:\u001b[m\u001b[K \u001b[01;35m\u001b[Kwarning: \u001b[m\u001b[K‘\u001b[01m\u001b[Krems\u001b[m\u001b[K’ may be used uninitialized [\u001b[01;35m\u001b[K\u001b]8;;https://gcc.gnu.org/onlinedocs/gcc/Warning-Options.html#index-Wmaybe-uninitialized\u0007-Wmaybe-uninitialized\u001b]8;;\u0007\u001b[m\u001b[K]\n",
      "\u001b[01m\u001b[K../include/sketch/hmh.h:424:65:\u001b[m\u001b[K \u001b[01;35m\u001b[Kwarning: \u001b[m\u001b[K‘\u001b[01m\u001b[Krems\u001b[m\u001b[K’ may be used uninitialized [\u001b[01;35m\u001b[K\u001b]8;;https://gcc.gnu.org/onlinedocs/gcc/Warning-Options.html#index-Wmaybe-uninitialized\u0007-Wmaybe-uninitialized\u001b]8;;\u0007\u001b[m\u001b[K]\n"
     ]
    },
    {
     "name": "stdout",
     "output_type": "stream",
     "text": [
      "g++ -pthread -B /home/nikolare/anaconda3/envs/jupyterai/compiler_compat -shared -Wl,-rpath,/home/nikolare/anaconda3/envs/jupyterai/lib -Wl,-rpath-link,/home/nikolare/anaconda3/envs/jupyterai/lib -L/home/nikolare/anaconda3/envs/jupyterai/lib -Wl,-rpath,/home/nikolare/anaconda3/envs/jupyterai/lib -Wl,-rpath-link,/home/nikolare/anaconda3/envs/jupyterai/lib -L/home/nikolare/anaconda3/envs/jupyterai/lib build/temp.linux-x86_64-cpython-310/util.o -o build/lib.linux-x86_64-cpython-310/sketch_util.cpython-310-x86_64-linux-gnu.so -lgomp -lz\n",
      "In file included from \u001b[01m\u001b[K../python/pysketch.h:15\u001b[m\u001b[K,\n",
      "                 from \u001b[01m\u001b[Khmh.cpp:1\u001b[m\u001b[K:\n",
      "\u001b[01m\u001b[K../include/sketch/hmh.h:\u001b[m\u001b[K In member function ‘\u001b[01m\u001b[Kdouble sketch::hmh::hmh_t::union_size(const sketch::hmh::hmh_t&) const\u001b[m\u001b[K’:\n",
      "\u001b[01m\u001b[K../include/sketch/hmh.h:424:65:\u001b[m\u001b[K \u001b[01;35m\u001b[Kwarning: \u001b[m\u001b[K‘\u001b[01m\u001b[Krems\u001b[m\u001b[K’ may be used uninitialized [\u001b[01;35m\u001b[K\u001b]8;;https://gcc.gnu.org/onlinedocs/gcc/Warning-Options.html#index-Wmaybe-uninitialized\u0007-Wmaybe-uninitialized\u001b]8;;\u0007\u001b[m\u001b[K]\n",
      "  424 |                 ret += mrx2 - double(((const type *)&rems)[j\u001b[01;35m\u001b[K]\u001b[m\u001b[K) * mri * INVPOWERSOFTWO[((const type *)&lzcs)[j]];\\\n",
      "      |                                                             \u001b[01;35m\u001b[K^\u001b[m\u001b[K\n",
      "\n",
      "\u001b[01m\u001b[K../include/sketch/hmh.h:424:65:\u001b[m\u001b[K \u001b[01;35m\u001b[Kwarning: \u001b[m\u001b[K‘\u001b[01m\u001b[Krems\u001b[m\u001b[K’ may be used uninitialized [\u001b[01;35m\u001b[K\u001b]8;;https://gcc.gnu.org/onlinedocs/gcc/Warning-Options.html#index-Wmaybe-uninitialized\u0007-Wmaybe-uninitialized\u001b]8;;\u0007\u001b[m\u001b[K]\n",
      "\u001b[01m\u001b[K../include/sketch/hmh.h:424:65:\u001b[m\u001b[K \u001b[01;35m\u001b[Kwarning: \u001b[m\u001b[K‘\u001b[01m\u001b[Krems\u001b[m\u001b[K’ may be used uninitialized [\u001b[01;35m\u001b[K\u001b]8;;https://gcc.gnu.org/onlinedocs/gcc/Warning-Options.html#index-Wmaybe-uninitialized\u0007-Wmaybe-uninitialized\u001b]8;;\u0007\u001b[m\u001b[K]\n",
      "g++ -pthread -B /home/nikolare/anaconda3/envs/jupyterai/compiler_compat -shared -Wl,-rpath,/home/nikolare/anaconda3/envs/jupyterai/lib -Wl,-rpath-link,/home/nikolare/anaconda3/envs/jupyterai/lib -L/home/nikolare/anaconda3/envs/jupyterai/lib -Wl,-rpath,/home/nikolare/anaconda3/envs/jupyterai/lib -Wl,-rpath-link,/home/nikolare/anaconda3/envs/jupyterai/lib -L/home/nikolare/anaconda3/envs/jupyterai/lib build/temp.linux-x86_64-cpython-310/hmh.o -o build/lib.linux-x86_64-cpython-310/sketch_hmh.cpython-310-x86_64-linux-gnu.so -lgomp -lz\n",
      "g++ -pthread -B /home/nikolare/anaconda3/envs/jupyterai/compiler_compat -shared -Wl,-rpath,/home/nikolare/anaconda3/envs/jupyterai/lib -Wl,-rpath-link,/home/nikolare/anaconda3/envs/jupyterai/lib -L/home/nikolare/anaconda3/envs/jupyterai/lib -Wl,-rpath,/home/nikolare/anaconda3/envs/jupyterai/lib -Wl,-rpath-link,/home/nikolare/anaconda3/envs/jupyterai/lib -L/home/nikolare/anaconda3/envs/jupyterai/lib build/temp.linux-x86_64-cpython-310/ss.o -o build/lib.linux-x86_64-cpython-310/sketch_ss.cpython-310-x86_64-linux-gnu.so -lgomp -lz\n",
      "g++ -pthread -B /home/nikolare/anaconda3/envs/jupyterai/compiler_compat -shared -Wl,-rpath,/home/nikolare/anaconda3/envs/jupyterai/lib -Wl,-rpath-link,/home/nikolare/anaconda3/envs/jupyterai/lib -L/home/nikolare/anaconda3/envs/jupyterai/lib -Wl,-rpath,/home/nikolare/anaconda3/envs/jupyterai/lib -Wl,-rpath-link,/home/nikolare/anaconda3/envs/jupyterai/lib -L/home/nikolare/anaconda3/envs/jupyterai/lib build/temp.linux-x86_64-cpython-310/lsh.o -o build/lib.linux-x86_64-cpython-310/sketch_lsh.cpython-310-x86_64-linux-gnu.so -lgomp -lz\n",
      "/home/nikolare/anaconda3/envs/jupyterai/lib/python3.10/site-packages/setuptools/__init__.py:84: _DeprecatedInstaller: setuptools.installer and fetch_build_eggs are deprecated.\n",
      "!!\n",
      "\n",
      "        ********************************************************************************\n",
      "        Requirements should be satisfied by a PEP 517 installer.\n",
      "        If you are using pip, you can try `pip install --use-pep517`.\n",
      "        ********************************************************************************\n",
      "\n",
      "!!\n",
      "  dist.fetch_build_eggs(dist.setup_requires)\n",
      "/home/nikolare/anaconda3/envs/jupyterai/lib/python3.10/site-packages/setuptools/dist.py:509: InformationOnly: Normalizing 'v0.18' to '0.18'\n",
      "  self.metadata.version = self._normalize_version(\n",
      "running install\n",
      "/home/nikolare/anaconda3/envs/jupyterai/lib/python3.10/site-packages/setuptools/_distutils/cmd.py:66: SetuptoolsDeprecationWarning: setup.py install is deprecated.\n",
      "!!\n",
      "\n",
      "        ********************************************************************************\n",
      "        Please avoid running ``setup.py`` directly.\n",
      "        Instead, use pypa/build, pypa/installer or other\n",
      "        standards-based tools.\n",
      "\n",
      "        See https://blog.ganssle.io/articles/2021/10/setup-py-deprecated.html for details.\n",
      "        ********************************************************************************\n",
      "\n",
      "!!\n",
      "  self.initialize_options()\n",
      "/home/nikolare/anaconda3/envs/jupyterai/lib/python3.10/site-packages/setuptools/_distutils/cmd.py:66: EasyInstallDeprecationWarning: easy_install command is deprecated.\n",
      "!!\n",
      "\n",
      "        ********************************************************************************\n",
      "        Please avoid running ``setup.py`` and ``easy_install``.\n",
      "        Instead, use pypa/build, pypa/installer or other\n",
      "        standards-based tools.\n",
      "\n",
      "        See https://github.com/pypa/setuptools/issues/917 for details.\n",
      "        ********************************************************************************\n",
      "\n",
      "!!\n",
      "  self.initialize_options()\n",
      "running bdist_egg\n",
      "running egg_info\n",
      "creating sketch.egg-info\n",
      "writing sketch.egg-info/PKG-INFO\n",
      "writing dependency_links to sketch.egg-info/dependency_links.txt\n",
      "writing requirements to sketch.egg-info/requires.txt\n",
      "writing top-level names to sketch.egg-info/top_level.txt\n",
      "writing manifest file 'sketch.egg-info/SOURCES.txt'\n",
      "reading manifest file 'sketch.egg-info/SOURCES.txt'\n",
      "writing manifest file 'sketch.egg-info/SOURCES.txt'\n",
      "installing library code to build/bdist.linux-x86_64/egg\n",
      "running install_lib\n",
      "running build_py\n",
      "creating build/lib.linux-x86_64-cpython-310/sketch\n",
      "copying sketch/__init__.py -> build/lib.linux-x86_64-cpython-310/sketch\n",
      "running build_ext\n",
      "gcc -pthread -B /home/nikolare/anaconda3/envs/jupyterai/compiler_compat -Wno-unused-result -Wsign-compare -DNDEBUG -fwrapv -O2 -Wall -fPIC -O2 -isystem /home/nikolare/anaconda3/envs/jupyterai/include -fPIC -O2 -isystem /home/nikolare/anaconda3/envs/jupyterai/include -fPIC -I/home/nikolare/anaconda3/envs/jupyterai/include/python3.10 -c /tmp/tmpo377ecks.cpp -o tmp/tmpo377ecks.o -std=c++2a\n",
      "gcc -pthread -B /home/nikolare/anaconda3/envs/jupyterai/compiler_compat -Wno-unused-result -Wsign-compare -DNDEBUG -fwrapv -O2 -Wall -fPIC -O2 -isystem /home/nikolare/anaconda3/envs/jupyterai/include -fPIC -O2 -isystem /home/nikolare/anaconda3/envs/jupyterai/include -fPIC -I/home/nikolare/anaconda3/envs/jupyterai/include/python3.10 -c /tmp/tmpj4qpfa8x.cpp -o tmp/tmpj4qpfa8x.o -fvisibility=hidden\n",
      "creating build/bdist.linux-x86_64\n",
      "creating build/bdist.linux-x86_64/egg\n",
      "creating build/bdist.linux-x86_64/egg/sketch\n",
      "copying build/lib.linux-x86_64-cpython-310/sketch/__init__.py -> build/bdist.linux-x86_64/egg/sketch\n",
      "copying build/lib.linux-x86_64-cpython-310/sketch_bf.cpython-310-x86_64-linux-gnu.so -> build/bdist.linux-x86_64/egg\n",
      "copying build/lib.linux-x86_64-cpython-310/sketch_bbmh.cpython-310-x86_64-linux-gnu.so -> build/bdist.linux-x86_64/egg\n",
      "copying build/lib.linux-x86_64-cpython-310/sketch_util.cpython-310-x86_64-linux-gnu.so -> build/bdist.linux-x86_64/egg\n",
      "copying build/lib.linux-x86_64-cpython-310/sketch_lsh.cpython-310-x86_64-linux-gnu.so -> build/bdist.linux-x86_64/egg\n",
      "copying build/lib.linux-x86_64-cpython-310/sketch_ss.cpython-310-x86_64-linux-gnu.so -> build/bdist.linux-x86_64/egg\n",
      "copying build/lib.linux-x86_64-cpython-310/sketch_hmh.cpython-310-x86_64-linux-gnu.so -> build/bdist.linux-x86_64/egg\n",
      "copying build/lib.linux-x86_64-cpython-310/sketch_hll.cpython-310-x86_64-linux-gnu.so -> build/bdist.linux-x86_64/egg\n",
      "byte-compiling build/bdist.linux-x86_64/egg/sketch/__init__.py to __init__.cpython-310.pyc\n",
      "creating stub loader for sketch_hll.cpython-310-x86_64-linux-gnu.so\n",
      "creating stub loader for sketch_bbmh.cpython-310-x86_64-linux-gnu.so\n",
      "creating stub loader for sketch_util.cpython-310-x86_64-linux-gnu.so\n",
      "creating stub loader for sketch_bf.cpython-310-x86_64-linux-gnu.so\n",
      "creating stub loader for sketch_hmh.cpython-310-x86_64-linux-gnu.so\n",
      "creating stub loader for sketch_ss.cpython-310-x86_64-linux-gnu.so\n",
      "creating stub loader for sketch_lsh.cpython-310-x86_64-linux-gnu.so\n",
      "byte-compiling build/bdist.linux-x86_64/egg/sketch_hll.py to sketch_hll.cpython-310.pyc\n",
      "byte-compiling build/bdist.linux-x86_64/egg/sketch_bbmh.py to sketch_bbmh.cpython-310.pyc\n",
      "byte-compiling build/bdist.linux-x86_64/egg/sketch_util.py to sketch_util.cpython-310.pyc\n",
      "byte-compiling build/bdist.linux-x86_64/egg/sketch_bf.py to sketch_bf.cpython-310.pyc\n",
      "byte-compiling build/bdist.linux-x86_64/egg/sketch_hmh.py to sketch_hmh.cpython-310.pyc\n",
      "byte-compiling build/bdist.linux-x86_64/egg/sketch_ss.py to sketch_ss.cpython-310.pyc\n",
      "byte-compiling build/bdist.linux-x86_64/egg/sketch_lsh.py to sketch_lsh.cpython-310.pyc\n",
      "creating build/bdist.linux-x86_64/egg/EGG-INFO\n",
      "copying sketch.egg-info/PKG-INFO -> build/bdist.linux-x86_64/egg/EGG-INFO\n",
      "copying sketch.egg-info/SOURCES.txt -> build/bdist.linux-x86_64/egg/EGG-INFO\n",
      "copying sketch.egg-info/dependency_links.txt -> build/bdist.linux-x86_64/egg/EGG-INFO\n",
      "copying sketch.egg-info/not-zip-safe -> build/bdist.linux-x86_64/egg/EGG-INFO\n",
      "copying sketch.egg-info/requires.txt -> build/bdist.linux-x86_64/egg/EGG-INFO\n",
      "copying sketch.egg-info/top_level.txt -> build/bdist.linux-x86_64/egg/EGG-INFO\n",
      "writing build/bdist.linux-x86_64/egg/EGG-INFO/native_libs.txt\n",
      "creating dist\n",
      "creating 'dist/sketch-0.18-py3.10-linux-x86_64.egg' and adding 'build/bdist.linux-x86_64/egg' to it\n"
     ]
    },
    {
     "name": "stdout",
     "output_type": "stream",
     "text": [
      "removing 'build/bdist.linux-x86_64/egg' (and everything under it)\r\n",
      "Processing sketch-0.18-py3.10-linux-x86_64.egg\r\n",
      "creating /home/nikolare/anaconda3/envs/jupyterai/lib/python3.10/site-packages/sketch-0.18-py3.10-linux-x86_64.egg\r\n",
      "Extracting sketch-0.18-py3.10-linux-x86_64.egg to /home/nikolare/anaconda3/envs/jupyterai/lib/python3.10/site-packages\r\n",
      "Adding sketch 0.18 to easy-install.pth file\r\n",
      "\r\n",
      "Installed /home/nikolare/anaconda3/envs/jupyterai/lib/python3.10/site-packages/sketch-0.18-py3.10-linux-x86_64.egg\r\n",
      "Processing dependencies for sketch==0.18\r\n",
      "Searching for pybind11==2.11.1\r\n",
      "Best match: pybind11 2.11.1\r\n",
      "Processing pybind11-2.11.1-py3.10.egg\r\n",
      "pybind11 2.11.1 is already the active version in easy-install.pth\r\n",
      "detected new path './sketch-0.18-py3.10-linux-x86_64.egg'\r\n",
      "Installing pybind11-config script to /home/nikolare/anaconda3/envs/jupyterai/bin\r\n",
      "\r\n",
      "Using /home/nikolare/_projects/hplt/warc2text-runner/overlap/sketch/python/.eggs/pybind11-2.11.1-py3.10.egg\r\n",
      "Finished processing dependencies for sketch==0.18\r\n"
     ]
    }
   ],
   "source": [
    "!cd sketch/python && python3 setup.py build_ext -j4 && python3 setup.py install"
   ]
  },
  {
   "cell_type": "code",
   "execution_count": null,
   "id": "4d9ed219",
   "metadata": {},
   "outputs": [],
   "source": []
  },
  {
   "cell_type": "code",
   "execution_count": 14,
   "id": "b1f323df",
   "metadata": {},
   "outputs": [
    {
     "name": "stdout",
     "output_type": "stream",
     "text": [
      "theoretical relative standard error:  0.0040584375\n",
      "empirical relative error:  0.0024197322313331067\n",
      "3.67 s ± 0 ns per loop (mean ± std. dev. of 1 run, 1 loop each)\n"
     ]
    }
   ],
   "source": [
    "%%timeit -n 1 -r 1\n",
    "import sketch\n",
    "hll = sketch.hll.hll(16)  # 2**16 registers give 0.5% relative stderr\n",
    "card = 10**7\n",
    "for i in range(card):\n",
    "    hll.addh(str(i))\n",
    "estimate = hll.report()\n",
    "# nreg = hll.m\n",
    "# print('number of registers: ', nreg) \n",
    "print('theoretical relative standard error: ', hll.relative_error())\n",
    "print('empirical relative error: ', (estimate - card) / card)"
   ]
  },
  {
   "cell_type": "code",
   "execution_count": 17,
   "id": "a0e0545d",
   "metadata": {},
   "outputs": [
    {
     "name": "stdout",
     "output_type": "stream",
     "text": [
      "42.4220130443573 0.025248016839572937 0.0325\n",
      "43.646475315093994 -0.00039723790660098194 0.001015625\n",
      "62.721622705459595 -5.439140012308955e-05 3.173828125e-05\n"
     ]
    }
   ],
   "source": [
    "from math import sqrt\n",
    "import sketch\n",
    "card = 10**8\n",
    "for p in range(10,40, 10):\n",
    "    hll = sketch.hll.hll(p)  # 2**16 registers give 0.5% relative stderr\n",
    "    st = time()\n",
    "    for i in range(card):\n",
    "        hll.addh(str(i))\n",
    "\n",
    "    print(time()-st,  (hll.report()-card)/card, 1.04 / sqrt(2**p))"
   ]
  },
  {
   "cell_type": "markdown",
   "id": "df84ed9c",
   "metadata": {},
   "source": [
    "### 2x slower compared to HLL"
   ]
  },
  {
   "cell_type": "markdown",
   "id": "0d834c86",
   "metadata": {},
   "source": [
    "# SetSketch implementations"
   ]
  },
  {
   "cell_type": "markdown",
   "id": "e814749a",
   "metadata": {},
   "source": [
    "## dnbaker:"
   ]
  },
  {
   "cell_type": "code",
   "execution_count": 53,
   "id": "b8c0ca8f",
   "metadata": {},
   "outputs": [
    {
     "name": "stdout",
     "output_type": "stream",
     "text": [
      "empirical relative error:  0.012423492214080319\n",
      "empirical relative error:  0.012423492214080319\n",
      "empirical relative error:  0.012423492214080319\n",
      "empirical relative error:  0.012423492214080319\n",
      "empirical relative error:  0.012423492214080319\n",
      "empirical relative error:  0.012423492214080319\n",
      "empirical relative error:  0.012423492214080319\n",
      "empirical relative error:  0.012423492214080319\n",
      "4 s ± 38.4 ms per loop (mean ± std. dev. of 7 runs, 1 loop each)\n"
     ]
    }
   ],
   "source": [
    "%%timeit \n",
    "import sketch\n",
    "ss = sketch.setsketch.CSetSketch(2**16)  # 2**16 registers give 0.5% relative stderr\n",
    "card = 10**7\n",
    "for i in range(card):\n",
    "    ss.addh(str(i))\n",
    "estimate = ss.report()\n",
    "# nreg = hll.m\n",
    "# print('number of registers: ', nreg) \n",
    "# print('theoretical relative standard error: ', ss.relative_error())\n",
    "print('empirical relative error: ', (estimate - card) / card)"
   ]
  },
  {
   "cell_type": "markdown",
   "id": "cc2bad07",
   "metadata": {},
   "source": [
    "### 4s for 10M items => 1.1h for 10B items"
   ]
  },
  {
   "cell_type": "code",
   "execution_count": 125,
   "id": "97d15a1f",
   "metadata": {},
   "outputs": [
    {
     "name": "stdout",
     "output_type": "stream",
     "text": [
      "12: -0.573, 4.15s,  -0.008957229244843126, 0.015625\n",
      "14: 0.450, 4.22s,  0.003515398152990453, 0.0078125\n",
      "16: 3.180, 4.45s,  0.012423492214080319, 0.00390625\n",
      "18: 0.951, 5.83s,  0.0018566568084277212, 0.001953125\n",
      "20: -0.014, 21.26s,  -1.3449034900031984e-05, 0.0009765625\n"
     ]
    }
   ],
   "source": [
    "from math import sqrt\n",
    "import sketch\n",
    "\n",
    "card = 10**7\n",
    "for p in range(12, 22, 2):\n",
    "    m = 2**p\n",
    "    ss = sketch.setsketch.CSetSketch(m)  # 2**16 registers give 0.5% relative stderr\n",
    "    st = time()\n",
    "    for i in range(card):\n",
    "        ss.addh(str(i))\n",
    "\n",
    "    rel_realerr = (ss.report() - card) / card\n",
    "    rel_stderr = 1.0 / sqrt(m)\n",
    "    print(f'{p}: {rel_realerr/rel_stderr:.3f}, {time()-st:.2f}s,  {rel_realerr}, {rel_stderr}')"
   ]
  },
  {
   "cell_type": "code",
   "execution_count": 105,
   "id": "b045542b",
   "metadata": {},
   "outputs": [],
   "source": [
    "from math import sqrt\n",
    "import sketch\n",
    "\n",
    "l = []\n",
    "for p in range(16, 20, 2):\n",
    "    m = 2**p\n",
    "    ss = sketch.setsketch.CSetSketch(m)  # 2**16 registers give 0.5% relative stderr\n",
    "\n",
    "    for k in range(27):\n",
    "        for i in range(2**k, 2**(k+1)):\n",
    "            ss.addh(str(i))\n",
    "\n",
    "        card = 2**(k+1)-1\n",
    "        rel_realerr = (ss.report() - card) / card\n",
    "        rel_stderr = 1.0 / sqrt(m)\n",
    "        l.append({'card':card, 'm':m, 'err_ratio': rel_realerr/rel_stderr})\n"
   ]
  },
  {
   "cell_type": "code",
   "execution_count": 106,
   "id": "495184d7",
   "metadata": {},
   "outputs": [
    {
     "data": {
      "text/plain": [
       "<seaborn.axisgrid.FacetGrid at 0x7f7946118df0>"
      ]
     },
     "execution_count": 106,
     "metadata": {},
     "output_type": "execute_result"
    },
    {
     "data": {
      "image/png": "[encoded data removed]",
      "text/plain": [
       "<Figure size 603.25x500 with 1 Axes>"
      ]
     },
     "metadata": {},
     "output_type": "display_data"
    }
   ],
   "source": [
    "g = sns.relplot(data=pd.DataFrame(l), x='card', y='err_ratio', hue='m', kind='line')\n",
    "g.set(xscale=\"log\")"
   ]
  },
  {
   "cell_type": "code",
   "execution_count": null,
   "id": "a7af0d77",
   "metadata": {},
   "outputs": [],
   "source": []
  },
  {
   "cell_type": "code",
   "execution_count": null,
   "id": "efa9d164",
   "metadata": {},
   "outputs": [],
   "source": []
  },
  {
   "cell_type": "code",
   "execution_count": 19,
   "id": "cb194dfe",
   "metadata": {},
   "outputs": [],
   "source": [
    "def print_err(var, relative_stderr, est, real):\n",
    "    relative_realerr = (est-real)*1.0 / real\n",
    "    errerr = relative_realerr / relative_stderr\n",
    "#     CI95 = (est*(1-2*relative_stderr), est*(1+2*relative_stderr))\n",
    "    print('*' if abs(errerr)>2.0 else '', errerr, f'{var} est: {est}*(1+-{relative_stderr}) real: {real}')\n",
    "    "
   ]
  },
  {
   "cell_type": "code",
   "execution_count": 21,
   "id": "04a55b00",
   "metadata": {},
   "outputs": [
    {
     "name": "stdout",
     "output_type": "stream",
     "text": [
      " 1.3096168156052996 card1 est: 144114.68259451722*(1+-0.001953125) real: 143747\n",
      " -0.3696143198702529 card2 est: 240018.60468219087*(1+-0.001953125) real: 240192\n",
      " 0.5257121193817818 Union est: 384218.1033759953*(1+-0.001953125) real: 383824\n",
      " 0.05176156881187808 Jaccard est: 0.000301361083984375*(1+-0.11249183592970488) real: 0.0002996164908916587\n",
      "262144\n"
     ]
    }
   ],
   "source": [
    "# %%timeit -n 1 -r 1\n",
    "import sketch\n",
    "import sympy\n",
    "debug = False\n",
    "\n",
    "m = 2**18\n",
    "hll, hll2 = sketch.setsketch.CSetSketch(m), sketch.setsketch.CSetSketch(m)\n",
    "\n",
    "if debug: ss1, ss2 = set(), set()\n",
    "# step1, step2, maxval = 1, 5, 2*10**6\n",
    "# step1, step2, maxval = sympy.nextprime(125), sympy.nextprime(208), 10**9\n",
    "step1, step2, maxval = 2087, 1249, 3*10**8\n",
    "# step1, step2, maxval = 31, 17, 10**7\n",
    "assert sympy.isprime(step1) and sympy.isprime(step2)\n",
    "for i in range(step1, maxval+1, step1):\n",
    "    hll.addh(str(i))\n",
    "    if debug: ss1.add(str(i))\n",
    "\n",
    "for i in range(step2, maxval+1, step2):\n",
    "    hll2.addh(str(i))\n",
    "    if debug: ss2.add(str(i))\n",
    "    \n",
    "hll.write('tmp1')\n",
    "hll2.write('tmp2')\n",
    "\n",
    "hll, hll2 = sketch.setsketch.CSetSketch('tmp1'), sketch.setsketch.CSetSketch('tmp2')\n",
    "\n",
    "jaccard_est = sketch.setsketch.jaccard_index(hll, hll2)\n",
    "\n",
    "card1, card2 = maxval // step1, maxval // step2\n",
    "intersection = maxval // (step1*step2)\n",
    "union = card1 + card2 - intersection\n",
    "jaccard = intersection / union\n",
    "\n",
    "if debug: \n",
    "    assert len(ss1)==card1 and len(ss2)==card2\n",
    "    assert len(ss1.union(ss2))==union\n",
    "    assert len(ss1.intersection(ss2))==intersection\n",
    "    assert len(ss1.intersection(ss2)) / len(ss1.union(ss2))==jaccard\n",
    "    \n",
    "print_err('card1', 1/sqrt(m), hll.report(), card1)    \n",
    "print_err('card2', 1/sqrt(m), hll2.report(), card2)    \n",
    "print_err('Union', 1/sqrt(m), hll2.union(hll).report(), union)    \n",
    "print_err('Jaccard', sqrt((1./jaccard_est-1)/m), jaccard_est, jaccard)    \n",
    "\n",
    "m = hll.to_numpy().shape[0]\n",
    "print(m)"
   ]
  },
  {
   "cell_type": "markdown",
   "id": "ef9c47cc",
   "metadata": {},
   "source": [
    "J = 1 / (step1 + step2 - 1) => step1 + step2 = 1/J + 1\n",
    "\n",
    "card1 / card2 = step2 / step1"
   ]
  },
  {
   "cell_type": "code",
   "execution_count": 3,
   "id": "8c3c7b97",
   "metadata": {},
   "outputs": [
    {
     "name": "stdout",
     "output_type": "stream",
     "text": [
      "2087 1249\n"
     ]
    }
   ],
   "source": [
    "import sympy\n",
    "J=0.0003\n",
    "card1 = 3*10**6\n",
    "card2 = 5*10**6\n",
    "step1 = sympy.nextprime((1 + 1./J) / (1. + 1.0*card1/card2))\n",
    "step2 = sympy.nextprime((1 + 1./J) - step1)\n",
    "print(step1, step2)"
   ]
  },
  {
   "cell_type": "code",
   "execution_count": 5,
   "id": "8a3ce8ab",
   "metadata": {},
   "outputs": [
    {
     "data": {
      "text/plain": [
       "['ByteSetSketch',\n",
       " 'CSetSketch',\n",
       " 'FSetSketch',\n",
       " 'ShortSetSketch',\n",
       " '__doc__',\n",
       " '__file__',\n",
       " '__loader__',\n",
       " '__name__',\n",
       " '__package__',\n",
       " '__spec__',\n",
       " 'csf_from_np',\n",
       " 'css_from_np',\n",
       " 'ebs_from_np',\n",
       " 'ess_from_np',\n",
       " 'jaccard_index']"
      ]
     },
     "execution_count": 5,
     "metadata": {},
     "output_type": "execute_result"
    }
   ],
   "source": [
    "dir(sketch.setsketch)"
   ]
  },
  {
   "cell_type": "code",
   "execution_count": null,
   "id": "64ec0001",
   "metadata": {},
   "outputs": [],
   "source": []
  }
 ],
 "metadata": {
  "kernelspec": {
   "display_name": "Python [conda env:jupyterai]",
   "language": "python",
   "name": "conda-env-jupyterai-py"
  },
  "language_info": {
   "codemirror_mode": {
    "name": "ipython",
    "version": 3
   },
   "file_extension": ".py",
   "mimetype": "text/x-python",
   "name": "python",
   "nbconvert_exporter": "python",
   "pygments_lexer": "ipython3",
   "version": "3.10.12"
  }
 },
 "nbformat": 4,
 "nbformat_minor": 5
}
