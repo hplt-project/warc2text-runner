{
 "cells": [
  {
   "cell_type": "code",
   "execution_count": 1,
   "id": "156726ca",
   "metadata": {},
   "outputs": [],
   "source": [
    "import pandas as pd\n",
    "import seaborn as sns"
   ]
  },
  {
   "cell_type": "code",
   "execution_count": null,
   "id": "1478bf99",
   "metadata": {},
   "outputs": [],
   "source": []
  },
  {
   "cell_type": "code",
   "execution_count": 323,
   "id": "ecaa850f",
   "metadata": {},
   "outputs": [],
   "source": [
    "def load_sacct(fpath='sacct.log'):\n",
    "    df = pd.read_csv(fpath, sep=' +', nrows=0)\n",
    "    df1 = pd.read_csv(fpath, sep=' +', skiprows=3, header=None)\n",
    "    df['SubmitLine'] = df1.loc[:,4:].apply(lambda r: None if all(e is None for e in r) else ' '.join((\n",
    "        e for e in r if e is not None)), axis=1)\n",
    "    df.iloc[:,:4] = df1.iloc[:,:4]  \n",
    "    df.loc[df.Start==\"None\", 'Start'] = None\n",
    "    df.loc[df.Start==\"Unknown\", 'Start'] = None\n",
    "    df.loc[df.End==\"Unknown\", 'End'] = None\n",
    "\n",
    "    df.TotalCPU = df.TotalCPU.apply(lambda s: (s.replace('-', ' days ') if '-' in s else s).replace('+','00'))\n",
    "    df.TotalCPU = df.TotalCPU.str.split('\\.').str[0]\n",
    "    df.TotalCPU = df.TotalCPU.apply(lambda s: '00:'+s if len(s.split(':'))<3 else s )\n",
    "    df['TotalCPU'] = pd.to_timedelta(df['TotalCPU'])\n",
    "    for c in ('Submit', 'Start', 'End'):\n",
    "        df[c] = pd.to_datetime(df[c])\n",
    "\n",
    "\n",
    "    df['proc_time'] = (df.End - df.Start).dt.total_seconds()\n",
    "    df['total_time'] = (df.End - df.Submit).dt.total_seconds()\n",
    "    return df"
   ]
  },
  {
   "cell_type": "code",
   "execution_count": 324,
   "id": "fedd2972",
   "metadata": {},
   "outputs": [
    {
     "name": "stderr",
     "output_type": "stream",
     "text": [
      "/tmp/ipykernel_139693/4180458041.py:2: ParserWarning: Falling back to the 'python' engine because the 'c' engine does not support regex separators (separators > 1 char and different from '\\s+' are interpreted as regex); you can avoid this warning by specifying engine='python'.\n",
      "  df = pd.read_csv(fpath, sep=' +', nrows=0)\n",
      "/tmp/ipykernel_139693/4180458041.py:3: ParserWarning: Falling back to the 'python' engine because the 'c' engine does not support regex separators (separators > 1 char and different from '\\s+' are interpreted as regex); you can avoid this warning by specifying engine='python'.\n",
      "  df1 = pd.read_csv(fpath, sep=' +', skiprows=3, header=None)\n"
     ]
    },
    {
     "data": {
      "text/html": [
       "<div>\n",
       "<style scoped>\n",
       "    .dataframe tbody tr th:only-of-type {\n",
       "        vertical-align: middle;\n",
       "    }\n",
       "\n",
       "    .dataframe tbody tr th {\n",
       "        vertical-align: top;\n",
       "    }\n",
       "\n",
       "    .dataframe thead th {\n",
       "        text-align: right;\n",
       "    }\n",
       "</style>\n",
       "<table border=\"1\" class=\"dataframe\">\n",
       "  <thead>\n",
       "    <tr style=\"text-align: right;\">\n",
       "      <th></th>\n",
       "      <th>Submit</th>\n",
       "      <th>Start</th>\n",
       "      <th>End</th>\n",
       "      <th>TotalCPU</th>\n",
       "      <th>SubmitLine</th>\n",
       "      <th>proc_time</th>\n",
       "      <th>total_time</th>\n",
       "    </tr>\n",
       "  </thead>\n",
       "  <tbody>\n",
       "    <tr>\n",
       "      <th>0</th>\n",
       "      <td>2024-05-18 14:54:25</td>\n",
       "      <td>NaT</td>\n",
       "      <td>2024-05-18 15:28:52</td>\n",
       "      <td>0 days</td>\n",
       "      <td>srun --quiet --nodes=1 --cpus-per-task=128 --account=project_465000498 --partition=standard --time=0-07:00:00 stage2local.sh /scratch/project_465000498/two/html_staging//archivebot_partial/136/html.zst /scratch/project_465000498/two/html_staging//archivebot_partial/136 250</td>\n",
       "      <td>NaN</td>\n",
       "      <td>2067.0</td>\n",
       "    </tr>\n",
       "    <tr>\n",
       "      <th>1</th>\n",
       "      <td>2024-05-18 14:54:25</td>\n",
       "      <td>NaT</td>\n",
       "      <td>2024-05-18 15:28:52</td>\n",
       "      <td>0 days</td>\n",
       "      <td>srun --quiet --nodes=1 --cpus-per-task=128 --account=project_465000498 --partition=standard --time=0-07:00:00 stage2local.sh /scratch/project_465000498/two/html_staging//archivebot_partial/134/html.zst /scratch/project_465000498/two/html_staging//archivebot_partial/134 250</td>\n",
       "      <td>NaN</td>\n",
       "      <td>2067.0</td>\n",
       "    </tr>\n",
       "    <tr>\n",
       "      <th>2</th>\n",
       "      <td>2024-05-18 14:54:25</td>\n",
       "      <td>NaT</td>\n",
       "      <td>2024-05-18 15:28:52</td>\n",
       "      <td>0 days</td>\n",
       "      <td>srun --quiet --nodes=1 --cpus-per-task=128 --account=project_465000498 --partition=standard --time=0-07:00:00 stage2local.sh /scratch/project_465000498/two/html_staging//archivebot_partial/137/html.zst /scratch/project_465000498/two/html_staging//archivebot_partial/137 250</td>\n",
       "      <td>NaN</td>\n",
       "      <td>2067.0</td>\n",
       "    </tr>\n",
       "    <tr>\n",
       "      <th>3</th>\n",
       "      <td>2024-05-18 14:54:25</td>\n",
       "      <td>NaT</td>\n",
       "      <td>2024-05-18 15:28:52</td>\n",
       "      <td>0 days</td>\n",
       "      <td>srun --quiet --nodes=1 --cpus-per-task=128 --account=project_465000498 --partition=standard --time=0-07:00:00 stage2local.sh /scratch/project_465000498/two/html_staging//archivebot_partial/14/html.zst /scratch/project_465000498/two/html_staging//archivebot_partial/14 250</td>\n",
       "      <td>NaN</td>\n",
       "      <td>2067.0</td>\n",
       "    </tr>\n",
       "    <tr>\n",
       "      <th>4</th>\n",
       "      <td>2024-05-18 14:54:25</td>\n",
       "      <td>NaT</td>\n",
       "      <td>2024-05-18 15:28:52</td>\n",
       "      <td>0 days</td>\n",
       "      <td>srun --quiet --nodes=1 --cpus-per-task=128 --account=project_465000498 --partition=standard --time=0-07:00:00 stage2local.sh /scratch/project_465000498/two/html_staging//archivebot_partial/132/html.zst /scratch/project_465000498/two/html_staging//archivebot_partial/132 250</td>\n",
       "      <td>NaN</td>\n",
       "      <td>2067.0</td>\n",
       "    </tr>\n",
       "  </tbody>\n",
       "</table>\n",
       "</div>"
      ],
      "text/plain": [
       "               Submit Start                 End TotalCPU  \\\n",
       "0 2024-05-18 14:54:25   NaT 2024-05-18 15:28:52   0 days   \n",
       "1 2024-05-18 14:54:25   NaT 2024-05-18 15:28:52   0 days   \n",
       "2 2024-05-18 14:54:25   NaT 2024-05-18 15:28:52   0 days   \n",
       "3 2024-05-18 14:54:25   NaT 2024-05-18 15:28:52   0 days   \n",
       "4 2024-05-18 14:54:25   NaT 2024-05-18 15:28:52   0 days   \n",
       "\n",
       "                                                                                                                                                                                                                                                                          SubmitLine  \\\n",
       "0  srun --quiet --nodes=1 --cpus-per-task=128 --account=project_465000498 --partition=standard --time=0-07:00:00 stage2local.sh /scratch/project_465000498/two/html_staging//archivebot_partial/136/html.zst /scratch/project_465000498/two/html_staging//archivebot_partial/136 250   \n",
       "1  srun --quiet --nodes=1 --cpus-per-task=128 --account=project_465000498 --partition=standard --time=0-07:00:00 stage2local.sh /scratch/project_465000498/two/html_staging//archivebot_partial/134/html.zst /scratch/project_465000498/two/html_staging//archivebot_partial/134 250   \n",
       "2  srun --quiet --nodes=1 --cpus-per-task=128 --account=project_465000498 --partition=standard --time=0-07:00:00 stage2local.sh /scratch/project_465000498/two/html_staging//archivebot_partial/137/html.zst /scratch/project_465000498/two/html_staging//archivebot_partial/137 250   \n",
       "3    srun --quiet --nodes=1 --cpus-per-task=128 --account=project_465000498 --partition=standard --time=0-07:00:00 stage2local.sh /scratch/project_465000498/two/html_staging//archivebot_partial/14/html.zst /scratch/project_465000498/two/html_staging//archivebot_partial/14 250   \n",
       "4  srun --quiet --nodes=1 --cpus-per-task=128 --account=project_465000498 --partition=standard --time=0-07:00:00 stage2local.sh /scratch/project_465000498/two/html_staging//archivebot_partial/132/html.zst /scratch/project_465000498/two/html_staging//archivebot_partial/132 250   \n",
       "\n",
       "   proc_time  total_time  \n",
       "0        NaN      2067.0  \n",
       "1        NaN      2067.0  \n",
       "2        NaN      2067.0  \n",
       "3        NaN      2067.0  \n",
       "4        NaN      2067.0  "
      ]
     },
     "execution_count": 324,
     "metadata": {},
     "output_type": "execute_result"
    }
   ],
   "source": [
    "df = load_sacct()\n",
    "df.head()"
   ]
  },
  {
   "cell_type": "code",
   "execution_count": 327,
   "id": "c0238daa",
   "metadata": {},
   "outputs": [
    {
     "name": "stdout",
     "output_type": "stream",
     "text": [
      "3165.358333333333 hours processing time\n",
      "18597.3825 hours waiting+processing time\n",
      "4 days 10:05:45.981666666 CPU-hours\n"
     ]
    }
   ],
   "source": [
    "print(df.proc_time.sum() / 3600,'hours processing time')\n",
    "\n",
    "print(df.total_time.sum() / 3600,'hours waiting+processing time')\n",
    "print(df.TotalCPU.sum() / 3600, 'CPU-hours')"
   ]
  },
  {
   "cell_type": "code",
   "execution_count": 246,
   "id": "dfba660b",
   "metadata": {},
   "outputs": [],
   "source": []
  },
  {
   "cell_type": "code",
   "execution_count": 57,
   "id": "ba743d65",
   "metadata": {},
   "outputs": [
    {
     "data": {
      "text/plain": [
       "count     1888.000000\n",
       "mean      6035.640890\n",
       "std       4379.244614\n",
       "min          3.000000\n",
       "25%       1072.750000\n",
       "50%       5402.500000\n",
       "75%      10971.500000\n",
       "max      17896.000000\n",
       "Name: proc_time, dtype: float64"
      ]
     },
     "execution_count": 57,
     "metadata": {},
     "output_type": "execute_result"
    }
   ],
   "source": [
    "df.proc_time.describe()"
   ]
  },
  {
   "cell_type": "code",
   "execution_count": 58,
   "id": "1e9b328e",
   "metadata": {},
   "outputs": [
    {
     "data": {
      "text/plain": [
       "count      1912.000000\n",
       "mean      35015.992155\n",
       "std       40973.634790\n",
       "min           3.000000\n",
       "25%        5287.000000\n",
       "50%       12560.500000\n",
       "75%       48444.750000\n",
       "max      167882.000000\n",
       "Name: total_time, dtype: float64"
      ]
     },
     "execution_count": 58,
     "metadata": {},
     "output_type": "execute_result"
    }
   ],
   "source": [
    "df.total_time.describe()"
   ]
  },
  {
   "cell_type": "code",
   "execution_count": 59,
   "id": "addbecc9",
   "metadata": {},
   "outputs": [
    {
     "data": {
      "text/plain": [
       "'srun --quiet --nodes=1 --cpus-per-task=128 --account=project_465000498 --partition=standard --time=0-07:00:00 stage2local.sh /scratch/project_465000498/two/html_staging//archivebot_partial/137/html.zst /scratch/project_465000498/two/html_staging//archivebot_partial/137 250'"
      ]
     },
     "execution_count": 59,
     "metadata": {},
     "output_type": "execute_result"
    }
   ],
   "source": [
    "df.SubmitLine.iloc[2]"
   ]
  },
  {
   "cell_type": "code",
   "execution_count": 60,
   "id": "5b5ee8ad",
   "metadata": {},
   "outputs": [],
   "source": [
    "df['path'] = df.SubmitLine.str.extract('stage2local.sh .*/([^/]+/[^/]+/html.zst) ')"
   ]
  },
  {
   "cell_type": "code",
   "execution_count": 61,
   "id": "99d17bf7",
   "metadata": {},
   "outputs": [
    {
     "data": {
      "text/html": [
       "<div>\n",
       "<style scoped>\n",
       "    .dataframe tbody tr th:only-of-type {\n",
       "        vertical-align: middle;\n",
       "    }\n",
       "\n",
       "    .dataframe tbody tr th {\n",
       "        vertical-align: top;\n",
       "    }\n",
       "\n",
       "    .dataframe thead th {\n",
       "        text-align: right;\n",
       "    }\n",
       "</style>\n",
       "<table border=\"1\" class=\"dataframe\">\n",
       "  <thead>\n",
       "    <tr style=\"text-align: right;\">\n",
       "      <th></th>\n",
       "      <th>Submit</th>\n",
       "      <th>Start</th>\n",
       "      <th>End</th>\n",
       "      <th>TotalCPU</th>\n",
       "      <th>SubmitLine</th>\n",
       "      <th>proc_time</th>\n",
       "      <th>total_time</th>\n",
       "      <th>path</th>\n",
       "    </tr>\n",
       "  </thead>\n",
       "  <tbody>\n",
       "    <tr>\n",
       "      <th>24</th>\n",
       "      <td>2024-05-18 16:51:14</td>\n",
       "      <td>2024-05-18 17:06:17</td>\n",
       "      <td>2024-05-18 17:18:10</td>\n",
       "      <td>22:24:12</td>\n",
       "      <td>srun --quiet --nodes=1 --cpus-per-task=128 --a...</td>\n",
       "      <td>713.0</td>\n",
       "      <td>1616.0</td>\n",
       "      <td>archivebot_partial/1/html.zst</td>\n",
       "    </tr>\n",
       "    <tr>\n",
       "      <th>25</th>\n",
       "      <td>2024-05-18 17:06:18</td>\n",
       "      <td>2024-05-18 17:06:18</td>\n",
       "      <td>2024-05-18 17:18:10</td>\n",
       "      <td>22:24:12</td>\n",
       "      <td>srun --quiet --nodes=1 --cpus-per-task=128 --a...</td>\n",
       "      <td>712.0</td>\n",
       "      <td>712.0</td>\n",
       "      <td>archivebot_partial/1/html.zst</td>\n",
       "    </tr>\n",
       "    <tr>\n",
       "      <th>26</th>\n",
       "      <td>2024-05-18 17:08:14</td>\n",
       "      <td>2024-05-18 17:22:32</td>\n",
       "      <td>2024-05-18 17:37:10</td>\n",
       "      <td>1-01:58:38</td>\n",
       "      <td>srun --quiet --nodes=1 --cpus-per-task=128 --a...</td>\n",
       "      <td>878.0</td>\n",
       "      <td>1736.0</td>\n",
       "      <td>archivebot_partial/10/html.zst</td>\n",
       "    </tr>\n",
       "    <tr>\n",
       "      <th>27</th>\n",
       "      <td>2024-05-18 17:22:33</td>\n",
       "      <td>2024-05-18 17:22:33</td>\n",
       "      <td>2024-05-18 17:37:10</td>\n",
       "      <td>1-01:58:38</td>\n",
       "      <td>srun --quiet --nodes=1 --cpus-per-task=128 --a...</td>\n",
       "      <td>877.0</td>\n",
       "      <td>877.0</td>\n",
       "      <td>archivebot_partial/10/html.zst</td>\n",
       "    </tr>\n",
       "    <tr>\n",
       "      <th>28</th>\n",
       "      <td>2024-05-18 20:28:14</td>\n",
       "      <td>2024-05-18 23:43:08</td>\n",
       "      <td>2024-05-19 00:44:45</td>\n",
       "      <td>5-09:22:02</td>\n",
       "      <td>srun --quiet --nodes=1 --cpus-per-task=128 --a...</td>\n",
       "      <td>3697.0</td>\n",
       "      <td>15391.0</td>\n",
       "      <td>CC-MAIN-2017-04/67/html.zst</td>\n",
       "    </tr>\n",
       "    <tr>\n",
       "      <th>...</th>\n",
       "      <td>...</td>\n",
       "      <td>...</td>\n",
       "      <td>...</td>\n",
       "      <td>...</td>\n",
       "      <td>...</td>\n",
       "      <td>...</td>\n",
       "      <td>...</td>\n",
       "      <td>...</td>\n",
       "    </tr>\n",
       "    <tr>\n",
       "      <th>1907</th>\n",
       "      <td>2024-05-26 13:45:23</td>\n",
       "      <td>2024-05-26 13:45:23</td>\n",
       "      <td>2024-05-26 14:00:08</td>\n",
       "      <td>1-04:30:50</td>\n",
       "      <td>srun --quiet --nodes=1 --cpus-per-task=128 --a...</td>\n",
       "      <td>885.0</td>\n",
       "      <td>885.0</td>\n",
       "      <td>archivebot_partial/79/html.zst</td>\n",
       "    </tr>\n",
       "    <tr>\n",
       "      <th>1908</th>\n",
       "      <td>2024-05-25 21:45:06</td>\n",
       "      <td>2024-05-26 17:18:07</td>\n",
       "      <td>2024-05-26 18:44:22</td>\n",
       "      <td>7-13:22:02</td>\n",
       "      <td>srun --quiet --nodes=1 --cpus-per-task=128 --a...</td>\n",
       "      <td>5175.0</td>\n",
       "      <td>75556.0</td>\n",
       "      <td>wide00012/190/html.zst</td>\n",
       "    </tr>\n",
       "    <tr>\n",
       "      <th>1909</th>\n",
       "      <td>2024-05-26 17:18:07</td>\n",
       "      <td>2024-05-26 17:18:07</td>\n",
       "      <td>2024-05-26 18:44:22</td>\n",
       "      <td>7-13:22:02</td>\n",
       "      <td>srun --quiet --nodes=1 --cpus-per-task=128 --a...</td>\n",
       "      <td>5175.0</td>\n",
       "      <td>5175.0</td>\n",
       "      <td>wide00012/190/html.zst</td>\n",
       "    </tr>\n",
       "    <tr>\n",
       "      <th>1910</th>\n",
       "      <td>2024-05-25 21:49:51</td>\n",
       "      <td>2024-05-26 17:18:07</td>\n",
       "      <td>2024-05-26 18:48:50</td>\n",
       "      <td>7-19:31:04</td>\n",
       "      <td>srun --quiet --nodes=1 --cpus-per-task=128 --a...</td>\n",
       "      <td>5443.0</td>\n",
       "      <td>75539.0</td>\n",
       "      <td>wide00012/19/html.zst</td>\n",
       "    </tr>\n",
       "    <tr>\n",
       "      <th>1911</th>\n",
       "      <td>2024-05-26 17:18:07</td>\n",
       "      <td>2024-05-26 17:18:07</td>\n",
       "      <td>2024-05-26 18:48:50</td>\n",
       "      <td>7-19:31:04</td>\n",
       "      <td>srun --quiet --nodes=1 --cpus-per-task=128 --a...</td>\n",
       "      <td>5443.0</td>\n",
       "      <td>5443.0</td>\n",
       "      <td>wide00012/19/html.zst</td>\n",
       "    </tr>\n",
       "  </tbody>\n",
       "</table>\n",
       "<p>1886 rows × 8 columns</p>\n",
       "</div>"
      ],
      "text/plain": [
       "                  Submit               Start                 End    TotalCPU  \\\n",
       "24   2024-05-18 16:51:14 2024-05-18 17:06:17 2024-05-18 17:18:10    22:24:12   \n",
       "25   2024-05-18 17:06:18 2024-05-18 17:06:18 2024-05-18 17:18:10    22:24:12   \n",
       "26   2024-05-18 17:08:14 2024-05-18 17:22:32 2024-05-18 17:37:10  1-01:58:38   \n",
       "27   2024-05-18 17:22:33 2024-05-18 17:22:33 2024-05-18 17:37:10  1-01:58:38   \n",
       "28   2024-05-18 20:28:14 2024-05-18 23:43:08 2024-05-19 00:44:45  5-09:22:02   \n",
       "...                  ...                 ...                 ...         ...   \n",
       "1907 2024-05-26 13:45:23 2024-05-26 13:45:23 2024-05-26 14:00:08  1-04:30:50   \n",
       "1908 2024-05-25 21:45:06 2024-05-26 17:18:07 2024-05-26 18:44:22  7-13:22:02   \n",
       "1909 2024-05-26 17:18:07 2024-05-26 17:18:07 2024-05-26 18:44:22  7-13:22:02   \n",
       "1910 2024-05-25 21:49:51 2024-05-26 17:18:07 2024-05-26 18:48:50  7-19:31:04   \n",
       "1911 2024-05-26 17:18:07 2024-05-26 17:18:07 2024-05-26 18:48:50  7-19:31:04   \n",
       "\n",
       "                                             SubmitLine  proc_time  \\\n",
       "24    srun --quiet --nodes=1 --cpus-per-task=128 --a...      713.0   \n",
       "25    srun --quiet --nodes=1 --cpus-per-task=128 --a...      712.0   \n",
       "26    srun --quiet --nodes=1 --cpus-per-task=128 --a...      878.0   \n",
       "27    srun --quiet --nodes=1 --cpus-per-task=128 --a...      877.0   \n",
       "28    srun --quiet --nodes=1 --cpus-per-task=128 --a...     3697.0   \n",
       "...                                                 ...        ...   \n",
       "1907  srun --quiet --nodes=1 --cpus-per-task=128 --a...      885.0   \n",
       "1908  srun --quiet --nodes=1 --cpus-per-task=128 --a...     5175.0   \n",
       "1909  srun --quiet --nodes=1 --cpus-per-task=128 --a...     5175.0   \n",
       "1910  srun --quiet --nodes=1 --cpus-per-task=128 --a...     5443.0   \n",
       "1911  srun --quiet --nodes=1 --cpus-per-task=128 --a...     5443.0   \n",
       "\n",
       "      total_time                            path  \n",
       "24        1616.0   archivebot_partial/1/html.zst  \n",
       "25         712.0   archivebot_partial/1/html.zst  \n",
       "26        1736.0  archivebot_partial/10/html.zst  \n",
       "27         877.0  archivebot_partial/10/html.zst  \n",
       "28       15391.0     CC-MAIN-2017-04/67/html.zst  \n",
       "...          ...                             ...  \n",
       "1907       885.0  archivebot_partial/79/html.zst  \n",
       "1908     75556.0          wide00012/190/html.zst  \n",
       "1909      5175.0          wide00012/190/html.zst  \n",
       "1910     75539.0           wide00012/19/html.zst  \n",
       "1911      5443.0           wide00012/19/html.zst  \n",
       "\n",
       "[1886 rows x 8 columns]"
      ]
     },
     "execution_count": 61,
     "metadata": {},
     "output_type": "execute_result"
    }
   ],
   "source": [
    "df = df.dropna()\n",
    "df"
   ]
  },
  {
   "cell_type": "code",
   "execution_count": 62,
   "id": "9fc82816",
   "metadata": {},
   "outputs": [],
   "source": [
    "qdf = pd.concat([pd.read_csv(p, header=None, sep='\\t', names=['kb','path']) \n",
    "    for p in ('../cesnet/html_sizes.tsv', '../nirdl/html_sizes.tsv')], ignore_index=True)"
   ]
  },
  {
   "cell_type": "code",
   "execution_count": 63,
   "id": "b11668b1",
   "metadata": {},
   "outputs": [],
   "source": [
    "qdf.path = qdf.path.str.strip('./')"
   ]
  },
  {
   "cell_type": "code",
   "execution_count": null,
   "id": "ff340cdd",
   "metadata": {},
   "outputs": [],
   "source": []
  },
  {
   "cell_type": "code",
   "execution_count": 64,
   "id": "b8554f42",
   "metadata": {},
   "outputs": [
    {
     "data": {
      "text/html": [
       "<div>\n",
       "<style scoped>\n",
       "    .dataframe tbody tr th:only-of-type {\n",
       "        vertical-align: middle;\n",
       "    }\n",
       "\n",
       "    .dataframe tbody tr th {\n",
       "        vertical-align: top;\n",
       "    }\n",
       "\n",
       "    .dataframe thead th {\n",
       "        text-align: right;\n",
       "    }\n",
       "</style>\n",
       "<table border=\"1\" class=\"dataframe\">\n",
       "  <thead>\n",
       "    <tr style=\"text-align: right;\">\n",
       "      <th></th>\n",
       "      <th>Submit</th>\n",
       "      <th>Start</th>\n",
       "      <th>End</th>\n",
       "      <th>TotalCPU</th>\n",
       "      <th>SubmitLine</th>\n",
       "      <th>proc_time</th>\n",
       "      <th>total_time</th>\n",
       "      <th>path</th>\n",
       "      <th>kb</th>\n",
       "    </tr>\n",
       "  </thead>\n",
       "  <tbody>\n",
       "    <tr>\n",
       "      <th>0</th>\n",
       "      <td>2024-05-18 16:51:14</td>\n",
       "      <td>2024-05-18 17:06:17</td>\n",
       "      <td>2024-05-18 17:18:10</td>\n",
       "      <td>22:24:12</td>\n",
       "      <td>srun --quiet --nodes=1 --cpus-per-task=128 --a...</td>\n",
       "      <td>713.0</td>\n",
       "      <td>1616.0</td>\n",
       "      <td>archivebot_partial/1/html.zst</td>\n",
       "      <td>7508336</td>\n",
       "    </tr>\n",
       "    <tr>\n",
       "      <th>1</th>\n",
       "      <td>2024-05-18 17:06:18</td>\n",
       "      <td>2024-05-18 17:06:18</td>\n",
       "      <td>2024-05-18 17:18:10</td>\n",
       "      <td>22:24:12</td>\n",
       "      <td>srun --quiet --nodes=1 --cpus-per-task=128 --a...</td>\n",
       "      <td>712.0</td>\n",
       "      <td>712.0</td>\n",
       "      <td>archivebot_partial/1/html.zst</td>\n",
       "      <td>7508336</td>\n",
       "    </tr>\n",
       "    <tr>\n",
       "      <th>2</th>\n",
       "      <td>2024-05-18 17:08:14</td>\n",
       "      <td>2024-05-18 17:22:32</td>\n",
       "      <td>2024-05-18 17:37:10</td>\n",
       "      <td>1-01:58:38</td>\n",
       "      <td>srun --quiet --nodes=1 --cpus-per-task=128 --a...</td>\n",
       "      <td>878.0</td>\n",
       "      <td>1736.0</td>\n",
       "      <td>archivebot_partial/10/html.zst</td>\n",
       "      <td>13158544</td>\n",
       "    </tr>\n",
       "    <tr>\n",
       "      <th>3</th>\n",
       "      <td>2024-05-18 17:22:33</td>\n",
       "      <td>2024-05-18 17:22:33</td>\n",
       "      <td>2024-05-18 17:37:10</td>\n",
       "      <td>1-01:58:38</td>\n",
       "      <td>srun --quiet --nodes=1 --cpus-per-task=128 --a...</td>\n",
       "      <td>877.0</td>\n",
       "      <td>877.0</td>\n",
       "      <td>archivebot_partial/10/html.zst</td>\n",
       "      <td>13158544</td>\n",
       "    </tr>\n",
       "    <tr>\n",
       "      <th>4</th>\n",
       "      <td>2024-05-18 20:28:14</td>\n",
       "      <td>2024-05-18 23:43:08</td>\n",
       "      <td>2024-05-19 00:44:45</td>\n",
       "      <td>5-09:22:02</td>\n",
       "      <td>srun --quiet --nodes=1 --cpus-per-task=128 --a...</td>\n",
       "      <td>3697.0</td>\n",
       "      <td>15391.0</td>\n",
       "      <td>CC-MAIN-2017-04/67/html.zst</td>\n",
       "      <td>123647792</td>\n",
       "    </tr>\n",
       "    <tr>\n",
       "      <th>...</th>\n",
       "      <td>...</td>\n",
       "      <td>...</td>\n",
       "      <td>...</td>\n",
       "      <td>...</td>\n",
       "      <td>...</td>\n",
       "      <td>...</td>\n",
       "      <td>...</td>\n",
       "      <td>...</td>\n",
       "      <td>...</td>\n",
       "    </tr>\n",
       "    <tr>\n",
       "      <th>1887</th>\n",
       "      <td>2024-05-26 13:45:23</td>\n",
       "      <td>2024-05-26 13:45:23</td>\n",
       "      <td>2024-05-26 14:00:08</td>\n",
       "      <td>1-04:30:50</td>\n",
       "      <td>srun --quiet --nodes=1 --cpus-per-task=128 --a...</td>\n",
       "      <td>885.0</td>\n",
       "      <td>885.0</td>\n",
       "      <td>archivebot_partial/79/html.zst</td>\n",
       "      <td>7810272</td>\n",
       "    </tr>\n",
       "    <tr>\n",
       "      <th>1888</th>\n",
       "      <td>2024-05-25 21:45:06</td>\n",
       "      <td>2024-05-26 17:18:07</td>\n",
       "      <td>2024-05-26 18:44:22</td>\n",
       "      <td>7-13:22:02</td>\n",
       "      <td>srun --quiet --nodes=1 --cpus-per-task=128 --a...</td>\n",
       "      <td>5175.0</td>\n",
       "      <td>75556.0</td>\n",
       "      <td>wide00012/190/html.zst</td>\n",
       "      <td>195581404</td>\n",
       "    </tr>\n",
       "    <tr>\n",
       "      <th>1889</th>\n",
       "      <td>2024-05-26 17:18:07</td>\n",
       "      <td>2024-05-26 17:18:07</td>\n",
       "      <td>2024-05-26 18:44:22</td>\n",
       "      <td>7-13:22:02</td>\n",
       "      <td>srun --quiet --nodes=1 --cpus-per-task=128 --a...</td>\n",
       "      <td>5175.0</td>\n",
       "      <td>5175.0</td>\n",
       "      <td>wide00012/190/html.zst</td>\n",
       "      <td>195581404</td>\n",
       "    </tr>\n",
       "    <tr>\n",
       "      <th>1890</th>\n",
       "      <td>2024-05-25 21:49:51</td>\n",
       "      <td>2024-05-26 17:18:07</td>\n",
       "      <td>2024-05-26 18:48:50</td>\n",
       "      <td>7-19:31:04</td>\n",
       "      <td>srun --quiet --nodes=1 --cpus-per-task=128 --a...</td>\n",
       "      <td>5443.0</td>\n",
       "      <td>75539.0</td>\n",
       "      <td>wide00012/19/html.zst</td>\n",
       "      <td>197797612</td>\n",
       "    </tr>\n",
       "    <tr>\n",
       "      <th>1891</th>\n",
       "      <td>2024-05-26 17:18:07</td>\n",
       "      <td>2024-05-26 17:18:07</td>\n",
       "      <td>2024-05-26 18:48:50</td>\n",
       "      <td>7-19:31:04</td>\n",
       "      <td>srun --quiet --nodes=1 --cpus-per-task=128 --a...</td>\n",
       "      <td>5443.0</td>\n",
       "      <td>5443.0</td>\n",
       "      <td>wide00012/19/html.zst</td>\n",
       "      <td>197797612</td>\n",
       "    </tr>\n",
       "  </tbody>\n",
       "</table>\n",
       "<p>1892 rows × 9 columns</p>\n",
       "</div>"
      ],
      "text/plain": [
       "                  Submit               Start                 End    TotalCPU  \\\n",
       "0    2024-05-18 16:51:14 2024-05-18 17:06:17 2024-05-18 17:18:10    22:24:12   \n",
       "1    2024-05-18 17:06:18 2024-05-18 17:06:18 2024-05-18 17:18:10    22:24:12   \n",
       "2    2024-05-18 17:08:14 2024-05-18 17:22:32 2024-05-18 17:37:10  1-01:58:38   \n",
       "3    2024-05-18 17:22:33 2024-05-18 17:22:33 2024-05-18 17:37:10  1-01:58:38   \n",
       "4    2024-05-18 20:28:14 2024-05-18 23:43:08 2024-05-19 00:44:45  5-09:22:02   \n",
       "...                  ...                 ...                 ...         ...   \n",
       "1887 2024-05-26 13:45:23 2024-05-26 13:45:23 2024-05-26 14:00:08  1-04:30:50   \n",
       "1888 2024-05-25 21:45:06 2024-05-26 17:18:07 2024-05-26 18:44:22  7-13:22:02   \n",
       "1889 2024-05-26 17:18:07 2024-05-26 17:18:07 2024-05-26 18:44:22  7-13:22:02   \n",
       "1890 2024-05-25 21:49:51 2024-05-26 17:18:07 2024-05-26 18:48:50  7-19:31:04   \n",
       "1891 2024-05-26 17:18:07 2024-05-26 17:18:07 2024-05-26 18:48:50  7-19:31:04   \n",
       "\n",
       "                                             SubmitLine  proc_time  \\\n",
       "0     srun --quiet --nodes=1 --cpus-per-task=128 --a...      713.0   \n",
       "1     srun --quiet --nodes=1 --cpus-per-task=128 --a...      712.0   \n",
       "2     srun --quiet --nodes=1 --cpus-per-task=128 --a...      878.0   \n",
       "3     srun --quiet --nodes=1 --cpus-per-task=128 --a...      877.0   \n",
       "4     srun --quiet --nodes=1 --cpus-per-task=128 --a...     3697.0   \n",
       "...                                                 ...        ...   \n",
       "1887  srun --quiet --nodes=1 --cpus-per-task=128 --a...      885.0   \n",
       "1888  srun --quiet --nodes=1 --cpus-per-task=128 --a...     5175.0   \n",
       "1889  srun --quiet --nodes=1 --cpus-per-task=128 --a...     5175.0   \n",
       "1890  srun --quiet --nodes=1 --cpus-per-task=128 --a...     5443.0   \n",
       "1891  srun --quiet --nodes=1 --cpus-per-task=128 --a...     5443.0   \n",
       "\n",
       "      total_time                            path         kb  \n",
       "0         1616.0   archivebot_partial/1/html.zst    7508336  \n",
       "1          712.0   archivebot_partial/1/html.zst    7508336  \n",
       "2         1736.0  archivebot_partial/10/html.zst   13158544  \n",
       "3          877.0  archivebot_partial/10/html.zst   13158544  \n",
       "4        15391.0     CC-MAIN-2017-04/67/html.zst  123647792  \n",
       "...          ...                             ...        ...  \n",
       "1887       885.0  archivebot_partial/79/html.zst    7810272  \n",
       "1888     75556.0          wide00012/190/html.zst  195581404  \n",
       "1889      5175.0          wide00012/190/html.zst  195581404  \n",
       "1890     75539.0           wide00012/19/html.zst  197797612  \n",
       "1891      5443.0           wide00012/19/html.zst  197797612  \n",
       "\n",
       "[1892 rows x 9 columns]"
      ]
     },
     "execution_count": 64,
     "metadata": {},
     "output_type": "execute_result"
    }
   ],
   "source": [
    "df = df.merge(qdf, on='path', how='left')\n",
    "df"
   ]
  },
  {
   "cell_type": "code",
   "execution_count": 65,
   "id": "9c1ed9f5",
   "metadata": {},
   "outputs": [
    {
     "data": {
      "text/plain": [
       "count    1892.000000\n",
       "mean      221.319712\n",
       "std       194.843260\n",
       "min         0.774261\n",
       "25%        32.275061\n",
       "50%       181.362691\n",
       "75%       365.300339\n",
       "max       674.669037\n",
       "Name: kb, dtype: float64"
      ]
     },
     "execution_count": 65,
     "metadata": {},
     "output_type": "execute_result"
    }
   ],
   "source": [
    "(df.kb / 2**20).describe()"
   ]
  },
  {
   "cell_type": "code",
   "execution_count": 66,
   "id": "5ed2e894",
   "metadata": {},
   "outputs": [
    {
     "data": {
      "text/plain": [
       "<seaborn.axisgrid.FacetGrid at 0x7fdda8726fe0>"
      ]
     },
     "execution_count": 66,
     "metadata": {},
     "output_type": "execute_result"
    },
    {
     "data": {
      "image/png": "[encoded data removed]",
      "text/plain": [
       "<Figure size 500x500 with 1 Axes>"
      ]
     },
     "metadata": {},
     "output_type": "display_data"
    }
   ],
   "source": [
    "sns.relplot(data=df, y='proc_time', x='kb', kind='scatter')"
   ]
  },
  {
   "cell_type": "code",
   "execution_count": 67,
   "id": "6f5a4f90",
   "metadata": {},
   "outputs": [
    {
     "data": {
      "text/plain": [
       "<seaborn.axisgrid.FacetGrid at 0x7fdda8329540>"
      ]
     },
     "execution_count": 67,
     "metadata": {},
     "output_type": "execute_result"
    },
    {
     "data": {
      "image/png": "[encoded data removed]",
      "text/plain": [
       "<Figure size 500x500 with 1 Axes>"
      ]
     },
     "metadata": {},
     "output_type": "display_data"
    }
   ],
   "source": [
    "sns.lmplot(data=df, x='kb', y='proc_time', order=1, ci=0.95)"
   ]
  },
  {
   "cell_type": "code",
   "execution_count": 68,
   "id": "96cd2c36",
   "metadata": {},
   "outputs": [
    {
     "data": {
      "text/plain": [
       "<Axes: xlabel='kb'>"
      ]
     },
     "execution_count": 68,
     "metadata": {},
     "output_type": "execute_result"
    },
    {
     "data": {
      "image/png": "[encoded data removed]",
      "text/plain": [
       "<Figure size 640x480 with 1 Axes>"
      ]
     },
     "metadata": {},
     "output_type": "display_data"
    }
   ],
   "source": [
    "df.groupby(df.kb // 10**7).proc_time.max().plot()"
   ]
  },
  {
   "cell_type": "code",
   "execution_count": 69,
   "id": "e2f685b5",
   "metadata": {},
   "outputs": [
    {
     "data": {
      "text/plain": [
       "4.971111111111111"
      ]
     },
     "execution_count": 69,
     "metadata": {},
     "output_type": "execute_result"
    }
   ],
   "source": [
    "df.proc_time.max() /3600"
   ]
  },
  {
   "cell_type": "code",
   "execution_count": 70,
   "id": "10d6a189",
   "metadata": {},
   "outputs": [
    {
     "data": {
      "text/plain": [
       "count    0.525556\n",
       "mean     1.679412\n",
       "std      1.216816\n",
       "min      0.000833\n",
       "50%      1.502778\n",
       "99.9%    3.934581\n",
       "max      4.971111\n",
       "Name: proc_time, dtype: float64"
      ]
     },
     "execution_count": 70,
     "metadata": {},
     "output_type": "execute_result"
    }
   ],
   "source": [
    "df.proc_time.describe(percentiles=[.999]) / 3600"
   ]
  },
  {
   "cell_type": "code",
   "execution_count": 71,
   "id": "ea87cab0",
   "metadata": {},
   "outputs": [
    {
     "data": {
      "text/plain": [
       "674"
      ]
     },
     "execution_count": 71,
     "metadata": {},
     "output_type": "execute_result"
    }
   ],
   "source": [
    "df.kb.max()//2**20"
   ]
  },
  {
   "cell_type": "markdown",
   "id": "4a3add8c",
   "metadata": {},
   "source": [
    "# Analyze all running time for all data, round2, stage2"
   ]
  },
  {
   "cell_type": "code",
   "execution_count": 328,
   "id": "9f2067d9",
   "metadata": {},
   "outputs": [
    {
     "name": "stderr",
     "output_type": "stream",
     "text": [
      "/tmp/ipykernel_139693/4180458041.py:2: ParserWarning: Falling back to the 'python' engine because the 'c' engine does not support regex separators (separators > 1 char and different from '\\s+' are interpreted as regex); you can avoid this warning by specifying engine='python'.\n",
      "  df = pd.read_csv(fpath, sep=' +', nrows=0)\n",
      "/tmp/ipykernel_139693/4180458041.py:3: ParserWarning: Falling back to the 'python' engine because the 'c' engine does not support regex separators (separators > 1 char and different from '\\s+' are interpreted as regex); you can avoid this warning by specifying engine='python'.\n",
      "  df1 = pd.read_csv(fpath, sep=' +', skiprows=3, header=None)\n"
     ]
    }
   ],
   "source": [
    "fpath = '../qualitycontrol/sacct_stage2_all.log'\n",
    "df=load_sacct(fpath)"
   ]
  },
  {
   "cell_type": "code",
   "execution_count": 347,
   "id": "eb4dfe50",
   "metadata": {},
   "outputs": [
    {
     "name": "stdout",
     "output_type": "stream",
     "text": [
      "14913.748333333333 hours processing time\n",
      "47191.91861111111 hours waiting+processing time\n",
      "73986 days 22:20:08.999999488 CPU-hours\n"
     ]
    }
   ],
   "source": [
    "print(df.proc_time.sum() / 3600,'hours processing time')\n",
    "\n",
    "print(df.total_time.sum() / 3600,'hours waiting+processing time')\n",
    "print(df.TotalCPU.sum(), 'CPU-hours')"
   ]
  },
  {
   "cell_type": "code",
   "execution_count": 366,
   "id": "87a87209",
   "metadata": {},
   "outputs": [
    {
     "name": "stdout",
     "output_type": "stream",
     "text": [
      "1.7685384924999996 million cpu-hours\n"
     ]
    }
   ],
   "source": [
    "print(df.TotalCPU.sum().total_seconds() / 3600 / 10**6, 'million cpu-hours')"
   ]
  },
  {
   "cell_type": "code",
   "execution_count": 367,
   "id": "6d989a71",
   "metadata": {},
   "outputs": [
    {
     "name": "stderr",
     "output_type": "stream",
     "text": [
      "/tmp/ipykernel_139693/3101487074.py:1: SettingWithCopyWarning: \n",
      "A value is trying to be set on a copy of a slice from a DataFrame.\n",
      "Try using .loc[row_indexer,col_indexer] = value instead\n",
      "\n",
      "See the caveats in the documentation: https://pandas.pydata.org/pandas-docs/stable/user_guide/indexing.html#returning-a-view-versus-a-copy\n",
      "  df['script'] = df.SubmitLine.str.extract('(stage2.*sh)')\n"
     ]
    }
   ],
   "source": [
    "df['script'] = df.SubmitLine.str.extract('(stage2.*sh)')\n",
    "df = df.dropna()"
   ]
  },
  {
   "cell_type": "code",
   "execution_count": 368,
   "id": "fd46b515",
   "metadata": {},
   "outputs": [
    {
     "data": {
      "text/plain": [
       "script\n",
       "stage2local.sh             46880 days 10:23:41\n",
       "stage2local_batch.sh       26693 days 16:04:06\n",
       "stage2local_procratio.sh     115 days 00:01:46\n",
       "Name: TotalCPU, dtype: timedelta64[ns]"
      ]
     },
     "execution_count": 368,
     "metadata": {},
     "output_type": "execute_result"
    }
   ],
   "source": [
    "df.groupby('script').TotalCPU.sum()"
   ]
  },
  {
   "cell_type": "code",
   "execution_count": null,
   "id": "6b171dc7",
   "metadata": {},
   "outputs": [],
   "source": []
  }
 ],
 "metadata": {
  "kernelspec": {
   "display_name": "Python [conda env:lscdbench]",
   "language": "python",
   "name": "conda-env-lscdbench-py"
  },
  "language_info": {
   "codemirror_mode": {
    "name": "ipython",
    "version": 3
   },
   "file_extension": ".py",
   "mimetype": "text/x-python",
   "name": "python",
   "nbconvert_exporter": "python",
   "pygments_lexer": "ipython3",
   "version": "3.10.12"
  }
 },
 "nbformat": 4,
 "nbformat_minor": 5
}
