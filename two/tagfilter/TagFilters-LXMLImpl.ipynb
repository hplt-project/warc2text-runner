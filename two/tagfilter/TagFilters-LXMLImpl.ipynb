{
 "cells": [
  {
   "cell_type": "code",
   "execution_count": null,
   "id": "ed728d32",
   "metadata": {},
   "outputs": [],
   "source": []
  },
  {
   "cell_type": "markdown",
   "id": "a0efa314",
   "metadata": {},
   "source": [
    "    bool filter(const std::string& lc_tag, const char* attr, const char* value, const util::umap_tag_filters_regex& tagFilters) {\n",
    "        util::umap_tag_filters_regex::const_iterator tag_it = tagFilters.find(lc_tag);\n",
    "        if (tag_it == tagFilters.cend())\n",
    "            return true;\n",
    "        util::umap_attr_filters_regex::const_iterator attr_it = tag_it->second.find(util::toLowerCopy(attr));\n",
    "        if (attr_it == tag_it->second.cend())\n",
    "            return true;\n",
    "        for (const util::umap_attr_regex& filter : attr_it->second){\n",
    "            if (std::regex_search(value, filter.regex)) {\n",
    "                BOOST_LOG_TRIVIAL(debug) << \"Tag filter \" << tag_it->first << \"[\" << attr_it->first << \" ~ \" << filter.str << \"] matched '\" << value << \"'\";\n",
    "                return false;\n",
    "            }\n",
    "        }\n",
    "        return true;\n",
    "    }\n"
   ]
  },
  {
   "cell_type": "markdown",
   "id": "f8f59247",
   "metadata": {},
   "source": [
    "1) std::regex_search returns true if any substring of the value matches the regex;\n",
    "\n",
    "2) attr name is converted to lowercase\n",
    "\n",
    "3) return true if any substrign of the value matches any of the regular expressions for the (tag, attr) pair"
   ]
  },
  {
   "cell_type": "markdown",
   "id": "3fe06b30",
   "metadata": {},
   "source": [
    "    void readTagFiltersRegex(const std::string& filename, umap_tag_filters_regex& filters) {\n",
    "        std::ifstream f(filename);\n",
    "        if (!f)\n",
    "            throw TagFiltersFileException();\n",
    "        std::string line;\n",
    "        std::vector<std::string> fields;\n",
    "        for (size_t line_i=1; std::getline(f, line); ++line_i) {\n",
    "            if (boost::algorithm::all(line, boost::algorithm::is_space()) || boost::algorithm::starts_with(line, \"#\"))\n",
    "                continue;\n",
    "            fields.clear();\n",
    "            boost::algorithm::split(fields, line, [](char c){return c == '\\t';});\n",
    "            if (fields.size() < 3) {\n",
    "                BOOST_LOG_TRIVIAL(warning) << \"Could not parse tag filter at line \" << line_i << \" of \" << filename;\n",
    "                continue;\n",
    "            }\n",
    "            umap_attr_filters_regex& attrs = filters[fields.at(0)];\n",
    "            std::vector<umap_attr_regex>& values = attrs[fields.at(1)];\n",
    "            for (unsigned int i = 2; i < fields.size(); ++i)\n",
    "                values.emplace_back((umap_attr_regex){\n",
    "                    std::regex(fields.at(i), std::regex::optimize | std::regex::nosubs),\n",
    "                    fields.at(i)\n",
    "                });\n",
    "        }\n",
    "        f.close();\n",
    "    }"
   ]
  },
  {
   "cell_type": "markdown",
   "id": "72625666",
   "metadata": {},
   "source": [
    "while loading file with tag filters, skip all lines consisting of spaces only or starting with #\n",
    "\n",
    "split each line by TAB, first and second items are tag and attr, starting from the third elements is compiled to a regex, nosubs flag makes all subexpressions (expr) treated as non-marking sub-expressions (?:expr) while matching, probably for effeciency reasons;"
   ]
  },
  {
   "cell_type": "code",
   "execution_count": 1,
   "id": "69c376dc",
   "metadata": {},
   "outputs": [],
   "source": [
    "import zstandard\n",
    "import trafilatura\n",
    "import codecs\n",
    "import json\n",
    "from pathlib import Path\n",
    "import ujson as json\n",
    "import zstandard\n",
    "import io\n",
    "from trafilatura.utils import load_html\n",
    "from collections import defaultdict\n",
    "from tqdm import tqdm"
   ]
  },
  {
   "cell_type": "code",
   "execution_count": 2,
   "id": "e88b6388",
   "metadata": {},
   "outputs": [
    {
     "name": "stdout",
     "output_type": "stream",
     "text": [
      "div\tid\tmqtranslate\n",
      "div\tid\twporg-translate\n",
      "div\tid\twp-translate\n",
      "div\tid\tqtranslate\n",
      "link\tid\twporg-translate-css\n",
      "link\trel\talternate machine-translated-from\n",
      "script\tsrc\tqtranslate-x\n",
      "a\tonclick\tdoGTranslate\\(\\'.{2}\\|.{2}\\'\\)\n",
      "meta\tname\ttranslation-stats\n",
      "a\tdata-trp-gettext\t$^\n",
      "div\tid\tweglot\n",
      "7\n",
      "defaultdict(<class 'list'>, {('div', 'id'): ['mqtranslate', 'wporg-translate', 'wp-translate', 'qtranslate', 'weglot'], ('link', 'id'): ['wporg-translate-css'], ('link', 'rel'): ['alternate machine-translated-from'], ('script', 'src'): ['qtranslate-x'], ('a', 'onclick'): [\"doGTranslate\\\\(\\\\'.{2}\\\\|.{2}\\\\'\\\\)\"], ('meta', 'name'): ['translation-stats'], ('a', 'data-trp-gettext'): ['$^']})\n"
     ]
    }
   ],
   "source": [
    "def load_tagfilters(fpath = \"../../mt-filter-list.annotated\"):\n",
    "    tagfilters = defaultdict(list)\n",
    "    with open(fpath, 'r') as inp:\n",
    "        for l in inp:\n",
    "            l = l.strip()\n",
    "            if l=='' or l.startswith('#'):\n",
    "                continue\n",
    "            ff = l.split('\\t')\n",
    "            tagfilters[tuple(ff[:2])].append(ff[-1])\n",
    "            print(l)\n",
    "    print(len(tagfilters))\n",
    "    print(tagfilters)\n",
    "    return tagfilters\n",
    "\n",
    "tagfilters = load_tagfilters()"
   ]
  },
  {
   "cell_type": "code",
   "execution_count": null,
   "id": "f9d1f93d",
   "metadata": {},
   "outputs": [],
   "source": []
  },
  {
   "cell_type": "code",
   "execution_count": null,
   "id": "a44682e2",
   "metadata": {},
   "outputs": [],
   "source": []
  },
  {
   "cell_type": "code",
   "execution_count": 3,
   "id": "df1278d4",
   "metadata": {},
   "outputs": [
    {
     "name": "stdout",
     "output_type": "stream",
     "text": [
      "[(('div', 'id'), 'mqtranslate'), (('div', 'id'), 'wporg-translate'), (('div', 'id'), 'wp-translate'), (('div', 'id'), 'qtranslate'), (('div', 'id'), 'weglot'), (('link', 'id'), 'wporg-translate-css'), (('link', 'rel'), 'alternate machine-translated-from'), (('script', 'src'), 'qtranslate-x'), (('a', 'onclick'), re.compile(\"doGTranslate\\\\(\\\\'.{2}\\\\|.{2}\\\\'\\\\)\")), (('meta', 'name'), 'translation-stats'), (('a', 'data-trp-gettext'), re.compile('$^'))]\n"
     ]
    }
   ],
   "source": [
    "import re\n",
    "\n",
    "class TagFilter0:\n",
    "    \"\"\"\n",
    "    Attempts to optimize TagFilter1: for filters where values don't look like regular expressions include them\n",
    "    to the argument of iterfind()\n",
    "    \"\"\"\n",
    "    def __init__(self, tagfilters):\n",
    "        ignorecase = True  # ignore case for better matching, though in the original C++ implementation it was not ignored\n",
    "        self.tagattr2re = [(k, re.compile(t) if re.escape(re.sub('[- ]','',t)) != re.sub('[- ]','',t) else t)\n",
    "                      for k,v in tagfilters.items() for t in v]\n",
    "        print(self.tagattr2re)\n",
    "        \n",
    "    \n",
    "    def matches(self, tree):\n",
    "        for (tag, attr), filt in  self.tagattr2re: \n",
    "            if isinstance(filt, str):\n",
    "                xpath = f'.//{tag}[@{attr}=\"{filt}\"]'\n",
    "#                 print(xpath)\n",
    "                for e in tree.iterfind(xpath):\n",
    "                    val = e.get(attr)\n",
    "                    return tag, attr, val\n",
    "            \n",
    "            else:\n",
    "                for e in tree.iterfind(f\".//{tag}[@{attr}]\"):\n",
    "                    val = e.get(attr)\n",
    "    #                 print(tag, attr, val)\n",
    "                    for m in filt.finditer(val):\n",
    "                        return tag, attr, val\n",
    "        return None\n",
    "    \n",
    "matcher = TagFilter0(tagfilters)"
   ]
  },
  {
   "cell_type": "code",
   "execution_count": 4,
   "id": "82ad385f",
   "metadata": {},
   "outputs": [
    {
     "name": "stdout",
     "output_type": "stream",
     "text": [
      "{('div', 'id'): re.compile('(mqtranslate)|(wporg-translate)|(wp-translate)|(qtranslate)|(weglot)', re.IGNORECASE), ('link', 'id'): re.compile('(wporg-translate-css)', re.IGNORECASE), ('link', 'rel'): re.compile('(alternate machine-translated-from)', re.IGNORECASE), ('script', 'src'): re.compile('(qtranslate-x)', re.IGNORECASE), ('a', 'onclick'): re.compile(\"(doGTranslate\\\\(\\\\'.{2}\\\\|.{2}\\\\'\\\\))\", re.IGNORECASE), ('meta', 'name'): re.compile('(translation-stats)', re.IGNORECASE), ('a', 'data-trp-gettext'): re.compile('($^)', re.IGNORECASE)}\n"
     ]
    }
   ],
   "source": [
    "import re\n",
    "\n",
    "class TagFilter1:\n",
    "    \"\"\"\n",
    "    Iterates over all nodes with the specified tag having the specified attribute with lxml Element.iterfind(), \n",
    "    checks the value using pre-compiled regexps with Python re\n",
    "    \"\"\"\n",
    "    def __init__(self, tagfilters):\n",
    "        ignorecase = True  # ignore case for better matching, though in the original C++ implementation it was not ignored\n",
    "        self.tagattr2re = {k: re.compile('|'.join(f'({t})' for t in v), flags=re.IGNORECASE if ignorecase else 0) \n",
    "                      for k,v in tagfilters.items()}\n",
    "        print(self.tagattr2re)\n",
    "        \n",
    "    \n",
    "    def matches(self, tree):\n",
    "        for (tag, attr), regex in  self.tagattr2re.items(): \n",
    "            for e in tree.iterfind(f\".//{tag}[@{attr}]\"):\n",
    "                val = e.get(attr)\n",
    "#                 print(tag, attr, val)\n",
    "                for m in regex.finditer(val):\n",
    "                    return tag, attr, val\n",
    "        return None\n",
    "    \n",
    "matcher = TagFilter1(tagfilters)"
   ]
  },
  {
   "cell_type": "code",
   "execution_count": 5,
   "id": "4da736cb",
   "metadata": {},
   "outputs": [
    {
     "name": "stdout",
     "output_type": "stream",
     "text": [
      "<class '__main__.TagFilter2'>{('div', 'id'): '(mqtranslate)|(wporg-translate)|(wp-translate)|(qtranslate)|(weglot)', ('link', 'id'): '(wporg-translate-css)', ('link', 'rel'): '(alternate machine-translated-from)', ('script', 'src'): '(qtranslate-x)', ('a', 'onclick'): \"(doGTranslate\\\\(\\\\'.{2}\\\\|.{2}\\\\'\\\\))\", ('meta', 'name'): '(translation-stats)', ('a', 'data-trp-gettext'): '($^)'}\n"
     ]
    }
   ],
   "source": [
    "import re\n",
    "\n",
    "class TagFilter2:\n",
    "    \"\"\"\n",
    "    Employs lxml Element.xpath() method, for each (tag,attr) calls xpath()\n",
    "    \"\"\"\n",
    "    def __init__(self, tagfilters, use_and=False):\n",
    "        ignorecase = True  # ignore case for better matching, though in the original C++ implementation it was not ignored\n",
    "        self.conjunction = ' and ' if use_and else ']['        \n",
    "        self.tagattr2re = {k: '|'.join(f'({t})' for t in v)\n",
    "                      for k,v in tagfilters.items()}        \n",
    "\n",
    "        \n",
    "    def __str__(self):\n",
    "        return str(type(self)) + str(self.tagattr2re)\n",
    "        \n",
    "    \n",
    "    def matches(self, tree):\n",
    "        for (tag, attr), value_regex in  self.tagattr2re.items(): \n",
    "            # TODO: will not work if value_regex contains doublequotes\n",
    "            xpath = f'.//{tag}[@{attr}{self.conjunction}re:match(@{attr},\"{value_regex}\")]'  \n",
    "#             print(xpath)\n",
    "            for m in tree.xpath(xpath, \n",
    "                                namespaces={'re': \"http://exslt.org/regular-expressions\"}, smart_strings=False):\n",
    "                return tag, attr, m.get(attr)\n",
    "        return None\n",
    "    \n",
    "matcher = TagFilter2(tagfilters)\n",
    "print(matcher)"
   ]
  },
  {
   "cell_type": "code",
   "execution_count": 6,
   "id": "a0157b88",
   "metadata": {},
   "outputs": [
    {
     "name": "stdout",
     "output_type": "stream",
     "text": [
      "<class '__main__.TagFilter3'>.//div[@id][re:match(@id,\"(mqtranslate)|(wporg-translate)|(wp-translate)|(qtranslate)|(weglot)\")]\n",
      ".//link[@id][re:match(@id,\"(wporg-translate-css)\")]\n",
      ".//link[@rel][re:match(@rel,\"(alternate machine-translated-from)\")]\n",
      ".//script[@src][re:match(@src,\"(qtranslate-x)\")]\n",
      ".//a[@onclick][re:match(@onclick,\"(doGTranslate\\(\\'.{2}\\|.{2}\\'\\))\")]\n",
      ".//meta[@name][re:match(@name,\"(translation-stats)\")]\n",
      ".//a[@data-trp-gettext][re:match(@data-trp-gettext,\"($^)\")]\n"
     ]
    }
   ],
   "source": [
    "import re\n",
    "\n",
    "from lxml import etree\n",
    "\n",
    "class TagFilter3:\n",
    "    \"\"\"\n",
    "    Creating etree.XPath objects in the constructor, potentially sould compiles search expressions one time and\n",
    "    reuse for each input tree\n",
    "    \"\"\"\n",
    "    def __init__(self, tagfilters, use_and=False):\n",
    "        ignorecase = True  # ignore case for better matching, though in the original C++ implementation it was not ignored\n",
    "        self.tagattr2re = {k: '|'.join(f'({t})' for t in v)\n",
    "                      for k,v in tagfilters.items()}\n",
    "        # TODO: will not work if value_regex contains doublequotes\n",
    "        conjunction = ' and ' if use_and else ']['\n",
    "        self.matchers = [etree.XPath(f'.//{tag}[@{attr}{conjunction}re:match(@{attr},\"{value_regex}\")]', \n",
    "                                     namespaces={'re': \"http://exslt.org/regular-expressions\"}, smart_strings=False) \n",
    "                         for (tag, attr), value_regex in  self.tagattr2re.items()]\n",
    "        \n",
    "        \n",
    "        \n",
    "    def __str__(self):\n",
    "        return str(type(self)) + '\\n'.join(str(m) for m in self.matchers)\n",
    "\n",
    "    \n",
    "    def matches(self, tree):\n",
    "        for matcher in self.matchers:\n",
    "            for m in matcher(tree):\n",
    "                return m.tag, *m.items()[0]  # TODO: what is returned in m.attrib?\n",
    "\n",
    "        return None\n",
    "    \n",
    "    \n",
    "matcher = TagFilter3(tagfilters)\n",
    "print(matcher)"
   ]
  },
  {
   "cell_type": "code",
   "execution_count": 7,
   "id": "52c76af0",
   "metadata": {},
   "outputs": [
    {
     "name": "stdout",
     "output_type": "stream",
     "text": [
      "<class '__main__.TagFilter31'>.//div[@id][re:match(@id,\"(mqtranslate)|(wporg-translate)|(wp-translate)|(qtranslate)|(weglot)\")]/@id\n",
      ".//link[@id][re:match(@id,\"(wporg-translate-css)\")]/@id\n",
      ".//link[@rel][re:match(@rel,\"(alternate machine-translated-from)\")]/@rel\n",
      ".//script[@src][re:match(@src,\"(qtranslate-x)\")]/@src\n",
      ".//a[@onclick][re:match(@onclick,\"(doGTranslate\\(\\'.{2}\\|.{2}\\'\\))\")]/@onclick\n",
      ".//meta[@name][re:match(@name,\"(translation-stats)\")]/@name\n",
      ".//a[@data-trp-gettext][re:match(@data-trp-gettext,\"($^)\")]/@data-trp-gettext\n"
     ]
    }
   ],
   "source": [
    "import re\n",
    "\n",
    "from lxml import etree\n",
    "\n",
    "class TagFilter31:\n",
    "    \"\"\"\n",
    "    Creating etree.XPath objects in the constructor, potentially sould compiles search expressions one time and\n",
    "    reuse for each input tree\n",
    "    \"\"\"\n",
    "    def __init__(self, tagfilters, use_and=False):\n",
    "        ignorecase = True  # ignore case for better matching, though in the original C++ implementation it was not ignored\n",
    "        self.tagattr2re = {k: '|'.join(f'({t})' for t in v)\n",
    "                      for k,v in tagfilters.items()}\n",
    "        # TODO: will not work if value_regex contains doublequotes\n",
    "        conjunction = ' and ' if use_and else ']['\n",
    "        self.matchers = [etree.XPath(f'.//{tag}[@{attr}{conjunction}re:match(@{attr},\"{value_regex}\")]/@{attr}', \n",
    "                                     namespaces={'re': \"http://exslt.org/regular-expressions\"}, smart_strings=True) \n",
    "                         for (tag, attr), value_regex in  self.tagattr2re.items()]\n",
    "        \n",
    "        \n",
    "        \n",
    "    def __str__(self):\n",
    "        return str(type(self)) + '\\n'.join(str(m) for m in self.matchers)\n",
    "\n",
    "    \n",
    "    def matches(self, tree):\n",
    "        for matcher in self.matchers:\n",
    "            for m in matcher(tree):\n",
    "                return m.getparent().tag, m.attrname, str(m)\n",
    "\n",
    "        return None\n",
    "    \n",
    "    \n",
    "matcher = TagFilter31(tagfilters)\n",
    "print(matcher)\n"
   ]
  },
  {
   "cell_type": "code",
   "execution_count": 8,
   "id": "0cec9ef4",
   "metadata": {},
   "outputs": [
    {
     "name": "stdout",
     "output_type": "stream",
     "text": [
      "<class '__main__.TagFilter4'>.//div[@id][re:match(@id,\"(mqtranslate)|(wporg-translate)|(wp-translate)|(qtranslate)|(weglot)\")] | .//link[@id][re:match(@id,\"(wporg-translate-css)\")] | .//link[@rel][re:match(@rel,\"(alternate machine-translated-from)\")] | .//script[@src][re:match(@src,\"(qtranslate-x)\")] | .//a[@onclick][re:match(@onclick,\"(doGTranslate\\(\\'.{2}\\|.{2}\\'\\))\")] | .//meta[@name][re:match(@name,\"(translation-stats)\")] | .//a[@data-trp-gettext][re:match(@data-trp-gettext,\"($^)\")]\n"
     ]
    }
   ],
   "source": [
    "import re\n",
    "from lxml import etree\n",
    "\n",
    "class TagFilter4:\n",
    "    \"\"\"\n",
    "    Creating etree.XPath objects in the constructor, potentially sould compiles search expressions one time and\n",
    "    reuse for each input tree\n",
    "    \"\"\"\n",
    "    def __init__(self, tagfilters, use_and=False):\n",
    "        ignorecase = True  # ignore case for better matching, though in the original C++ implementation it was not ignored\n",
    "        self.tagattr2re = {k: '|'.join(f'({t})' for t in v)\n",
    "                      for k,v in tagfilters.items()}\n",
    "        # TODO: will not work if value_regex contains doublequotes\n",
    "        conjunction = ' and ' if use_and else ']['\n",
    "        pats = [ f'.//{tag}[@{attr}{conjunction}re:match(@{attr},\"{value_regex}\")]' \n",
    "                for (tag, attr), value_regex in  self.tagattr2re.items()]\n",
    "        self.matcher = etree.XPath(' | '.join(pats), \n",
    "                                     namespaces={'re': \"http://exslt.org/regular-expressions\"}, smart_strings=False)                         \n",
    "        \n",
    "        \n",
    "    def __str__(self):\n",
    "        return str(type(self)) + str(self.matcher)\n",
    "        \n",
    "    \n",
    "    def matches(self, tree):\n",
    "        for m in self.matcher(tree):\n",
    "            return m.tag, *m.items()[0]  # TODO: what is returned in m.attrib?\n",
    "\n",
    "        return None\n",
    "    \n",
    "matcher = TagFilter4(tagfilters)\n",
    "print(matcher)"
   ]
  },
  {
   "cell_type": "code",
   "execution_count": 10,
   "id": "b5e53821",
   "metadata": {},
   "outputs": [
    {
     "name": "stdout",
     "output_type": "stream",
     "text": [
      ".//div[@id=\"mqtranslate\"]\n",
      ".//div[@id=\"wporg-translate\"]\n",
      ".//div[@id=\"wp-translate\"]\n",
      ".//div[@id=\"qtranslate\"]\n",
      ".//div[@id=\"weglot\"]\n",
      ".//link[@id=\"wporg-translate-css\"]\n",
      ".//link[@rel=\"alternate machine-translated-from\"]\n",
      ".//script[@src=\"qtranslate-x\"]\n",
      ".//a[@onclick][re:match(@onclick,\"doGTranslate\\(\\'.{2}\\|.{2}\\'\\)\")]\n",
      ".//meta[@name=\"translation-stats\"]\n",
      ".//a[@data-trp-gettext=\"\"]\n",
      "<class '__main__.TagFilter5'>.//div[@id=\"mqtranslate\"] | .//div[@id=\"wporg-translate\"] | .//div[@id=\"wp-translate\"] | .//div[@id=\"qtranslate\"] | .//div[@id=\"weglot\"] | .//link[@id=\"wporg-translate-css\"] | .//link[@rel=\"alternate machine-translated-from\"] | .//script[@src=\"qtranslate-x\"] | .//a[@onclick][re:match(@onclick,\"doGTranslate\\(\\'.{2}\\|.{2}\\'\\)\")] | .//meta[@name=\"translation-stats\"] | .//a[@data-trp-gettext=\"\"]\n"
     ]
    }
   ],
   "source": [
    "import re\n",
    "from lxml import etree\n",
    "\n",
    "class TagFilter5:\n",
    "    \"\"\"\n",
    "    Creating etree.XPath in the constructor, potentially sould compiles search expressions one time and\n",
    "    reuse for each input tree. All filters in one XPath. Trying to optimize by usiung both \n",
    "    @attr=\"value\" and match(@attr, regex).\n",
    "    \"\"\"\n",
    "    def __init__(self, tagfilters):\n",
    "        ignorecase = True  # ignore case for better matching, though in the original C++ implementation it was not ignored\n",
    "        # TODO: will not work if value_regex contains doublequotes\n",
    "        pats = [ f'.//{tag}[@{attr}=\"\"]' if v=='$^' \n",
    "                else f'.//{tag}[@{attr}][re:match(@{attr},\"{v}\")]' if  v.startswith('doGTranslate')\n",
    "                else f'.//{tag}[@{attr}=\"{v}\"]'\n",
    "               for (tag, attr), t in tagfilters.items() for v in t]     \n",
    "        print('\\n'.join(pats))\n",
    "        self.matcher = etree.XPath(' | '.join(pats), \n",
    "                                     namespaces={'re': \"http://exslt.org/regular-expressions\"}, smart_strings=False)                         \n",
    "        \n",
    "        \n",
    "    def __str__(self):\n",
    "        return str(type(self)) + str(self.matcher)\n",
    "        \n",
    "    \n",
    "    def matches(self, tree):\n",
    "        for m in self.matcher(tree):\n",
    "            return m.tag, *m.items()[0]  # TODO: what is returned in m.attrib?\n",
    "\n",
    "        return None\n",
    "    \n",
    "matcher = TagFilter5(tagfilters)\n",
    "print(matcher)"
   ]
  },
  {
   "cell_type": "code",
   "execution_count": 10,
   "id": "8a971b66",
   "metadata": {},
   "outputs": [
    {
     "name": "stdout",
     "output_type": "stream",
     "text": [
      "19.1 µs ± 756 ns per loop (mean ± std. dev. of 7 runs, 10,000 loops each)\n"
     ]
    },
    {
     "ename": "NameError",
     "evalue": "name 'q' is not defined",
     "output_type": "error",
     "traceback": [
      "\u001b[0;31m---------------------------------------------------------------------------\u001b[0m",
      "\u001b[0;31mNameError\u001b[0m                                 Traceback (most recent call last)",
      "Cell \u001b[0;32mIn[10], line 6\u001b[0m\n\u001b[1;32m      3\u001b[0m find \u001b[38;5;241m=\u001b[39m etree\u001b[38;5;241m.\u001b[39mXPath(xpath, \n\u001b[1;32m      4\u001b[0m                   namespaces\u001b[38;5;241m=\u001b[39m{\u001b[38;5;124m'\u001b[39m\u001b[38;5;124mre\u001b[39m\u001b[38;5;124m'\u001b[39m: \u001b[38;5;124m\"\u001b[39m\u001b[38;5;124mhttp://exslt.org/regular-expressions\u001b[39m\u001b[38;5;124m\"\u001b[39m})\n\u001b[1;32m      5\u001b[0m get_ipython()\u001b[38;5;241m.\u001b[39mrun_line_magic(\u001b[38;5;124m'\u001b[39m\u001b[38;5;124mtimeit\u001b[39m\u001b[38;5;124m'\u001b[39m, \u001b[38;5;124m'\u001b[39m\u001b[38;5;124mq = find(load_html(\u001b[39m\u001b[38;5;130;01m\\'\u001b[39;00m\u001b[38;5;124m<html><div id=\u001b[39m\u001b[38;5;124m\"\u001b[39m\u001b[38;5;124m\"\u001b[39m\u001b[38;5;124m></html>\u001b[39m\u001b[38;5;130;01m\\'\u001b[39;00m\u001b[38;5;124m))\u001b[39m\u001b[38;5;124m'\u001b[39m)\n\u001b[0;32m----> 6\u001b[0m \u001b[38;5;28mprint\u001b[39m(q[\u001b[38;5;241m0\u001b[39m]\u001b[38;5;241m.\u001b[39mattrib)\n",
      "\u001b[0;31mNameError\u001b[0m: name 'q' is not defined"
     ]
    }
   ],
   "source": [
    "from lxml import etree\n",
    "xpath = './/div[@id][re:match(@id,\"$^\")] | .//script[@src][re:match(@src,\"(qtranslate-x)\")]'\n",
    "find = etree.XPath(xpath, \n",
    "                  namespaces={'re': \"http://exslt.org/regular-expressions\"})\n",
    "%timeit q = find(load_html('<html><div id=\"\"></html>'))\n",
    "print(q[0].attrib)"
   ]
  },
  {
   "cell_type": "code",
   "execution_count": null,
   "id": "d07e5a7d",
   "metadata": {},
   "outputs": [],
   "source": []
  },
  {
   "cell_type": "code",
   "execution_count": null,
   "id": "912b4e70",
   "metadata": {},
   "outputs": [],
   "source": [
    "%timeit find(h)"
   ]
  },
  {
   "cell_type": "code",
   "execution_count": null,
   "id": "15fc7a4d",
   "metadata": {},
   "outputs": [],
   "source": [
    "%timeit h.xpath(xpath, namespaces={'re': \"http://exslt.org/regular-expressions\"})"
   ]
  },
  {
   "cell_type": "code",
   "execution_count": 11,
   "id": "f46f5760",
   "metadata": {},
   "outputs": [
    {
     "name": "stdout",
     "output_type": "stream",
     "text": [
      "<class '__main__.TagFilter5'>.//div[@id=\"mqtranslate\"] | .//div[@id=\"wporg-translate\"] | .//div[@id=\"wp-translate\"] | .//div[@id=\"qtranslate\"] | .//div[@id=\"weglot\"] | .//link[@id=\"wporg-translate-css\"] | .//link[@rel=\"alternate machine-translated-from\"] | .//script[@src=\"qtranslate-x\"] | .//a[@onclick][re:match(@onclick,\"doGTranslate\\(\\'.{2}\\|.{2}\\'\\)\")] | .//meta[@name=\"translation-stats\"] | .//a[@data-trp-gettext=\"\"]\n",
      "\n",
      " <a>\n",
      "Match: None\n",
      "\n",
      " <a data-trp-gettext=\"\">\n",
      "Match: ('a', 'data-trp-gettext', '')\n",
      "\n",
      " <div id=\"wp-translate\">\n",
      "Match: ('div', 'id', 'wp-translate')\n",
      "\n",
      " <a href=\"#\" onclick=\"doGTranslate('en|zh');  return false;\">\n",
      "Match: ('a', 'href', '#')\n",
      "\n",
      " <div id=\"qtranslate\">\n",
      "Match: ('div', 'id', 'qtranslate')\n"
     ]
    }
   ],
   "source": [
    "test = [\n",
    "    ('<a>', False),\n",
    "\n",
    "    ('<a data-trp-gettext=\"\">', True),\n",
    "    ('<div id=\"wp-translate\">', True),\n",
    "    ('''<a href=\"#\" onclick=\"doGTranslate('en|zh');  return false;\">''', True),\n",
    "    ('<div id=\"qtranslate\">', True),\n",
    "    \n",
    "]\n",
    "print(matcher)\n",
    "for t, label in test:\n",
    "    print('\\n',t)\n",
    "    h = load_html(f'<html>{t}</html>')\n",
    "#     print('HTML:',h)\n",
    "    m = matcher.matches(h)\n",
    "    print('Match:', m)\n",
    "    if label:\n",
    "        assert m is not None, t\n",
    "    else:\n",
    "        assert m is None, t"
   ]
  },
  {
   "cell_type": "code",
   "execution_count": 12,
   "id": "398fd7c4",
   "metadata": {},
   "outputs": [],
   "source": [
    "\n",
    "r=h.xpath('.//div[@id=\"qtranslate\"]/@id', smart_strings=True)[0]"
   ]
  },
  {
   "cell_type": "code",
   "execution_count": 13,
   "id": "85758141",
   "metadata": {},
   "outputs": [
    {
     "data": {
      "text/plain": [
       "'qtranslate'"
      ]
     },
     "execution_count": 13,
     "metadata": {},
     "output_type": "execute_result"
    }
   ],
   "source": [
    "str(r)"
   ]
  },
  {
   "cell_type": "code",
   "execution_count": null,
   "id": "d0dc4119",
   "metadata": {},
   "outputs": [],
   "source": []
  },
  {
   "cell_type": "code",
   "execution_count": 12,
   "id": "fbfdd56c",
   "metadata": {},
   "outputs": [],
   "source": [
    "from timeit import default_timer as timer\n",
    "import signal\n",
    "from contextlib import contextmanager, nullcontext\n",
    "\n",
    "@contextmanager\n",
    "def time_limit(seconds):\n",
    "    def signal_handler(signum, frame):\n",
    "        raise TimeoutError(\"Timed out!\")\n",
    "    signal.signal(signal.SIGALRM, signal_handler)\n",
    "    signal.setitimer(signal.ITIMER_REAL, seconds)\n",
    "    try:\n",
    "        yield\n",
    "    finally:\n",
    "        signal.setitimer(signal.ITIMER_REAL, 0)\n",
    "\n"
   ]
  },
  {
   "cell_type": "code",
   "execution_count": 39,
   "id": "1171c4b7",
   "metadata": {},
   "outputs": [],
   "source": [
    "from timeit import default_timer as timer\n",
    "from collections import Counter\n",
    "\n",
    "def test_matcher(matcher):\n",
    "    cnt, cnt1 = Counter(), Counter()\n",
    "    durh, durm = 0.0, 0.0\n",
    "\n",
    "    for p in tqdm(list(Path('../../../sample0.01_sample0.001').glob('**/all.zst'))[20::20]):\n",
    "#         print(p, p.stat().st_size/2**30)\n",
    "        with io.BufferedReader(zstandard.open(p, 'rb')) as inp:\n",
    "            for byteline in inp:\n",
    "                l = byteline.decode('utf-8', errors='ignore')\n",
    "                d = json.loads(l.strip())\n",
    "                st = timer()\n",
    "                try:\n",
    "                    with time_limit(0.5):                    \n",
    "                        html = load_html(d['h'])                    \n",
    "                except TimeoutError as e:\n",
    "                    print('load_html timeout')\n",
    "                    html = None\n",
    "                durh += timer() - st\n",
    "                if html is None:\n",
    "                    continue\n",
    "                try:\n",
    "                    with time_limit(0.5):\n",
    "                        st = timer()\n",
    "                        m = matcher.matches(html)\n",
    "                        durm += timer() - st\n",
    "                        if m is not None:\n",
    "#                             print('Match:', m)\n",
    "                            cnt[m[0]] += 1  \n",
    "                            cnt1[m] += 1\n",
    "                except TimeoutError as e:\n",
    "                    print('matches timeout')                \n",
    "\n",
    "    print(durm, durh, durm / (durh+durm))\n",
    "    return durm / (durh+durm), cnt, cnt1\n"
   ]
  },
  {
   "cell_type": "code",
   "execution_count": 40,
   "id": "deb3ffa6",
   "metadata": {
    "scrolled": false
   },
   "outputs": [
    {
     "name": "stdout",
     "output_type": "stream",
     "text": [
      "[(('div', 'id'), 'mqtranslate'), (('div', 'id'), 'wporg-translate'), (('div', 'id'), 'wp-translate'), (('div', 'id'), 'qtranslate'), (('div', 'id'), 'weglot'), (('link', 'id'), 'wporg-translate-css'), (('link', 'rel'), 'alternate machine-translated-from'), (('script', 'src'), 'qtranslate-x'), (('a', 'onclick'), re.compile(\"doGTranslate\\\\(\\\\'.{2}\\\\|.{2}\\\\'\\\\)\")), (('meta', 'name'), 'translation-stats'), (('a', 'data-trp-gettext'), re.compile('$^'))]\n",
      "{('div', 'id'): re.compile('(mqtranslate)|(wporg-translate)|(wp-translate)|(qtranslate)|(weglot)', re.IGNORECASE), ('link', 'id'): re.compile('(wporg-translate-css)', re.IGNORECASE), ('link', 'rel'): re.compile('(alternate machine-translated-from)', re.IGNORECASE), ('script', 'src'): re.compile('(qtranslate-x)', re.IGNORECASE), ('a', 'onclick'): re.compile(\"(doGTranslate\\\\(\\\\'.{2}\\\\|.{2}\\\\'\\\\))\", re.IGNORECASE), ('meta', 'name'): re.compile('(translation-stats)', re.IGNORECASE), ('a', 'data-trp-gettext'): re.compile('($^)', re.IGNORECASE)}\n",
      ".//div[@id=\"mqtranslate\"]\n",
      ".//div[@id=\"wporg-translate\"]\n",
      ".//div[@id=\"wp-translate\"]\n",
      ".//div[@id=\"qtranslate\"]\n",
      ".//div[@id=\"weglot\"]\n",
      ".//link[@id=\"wporg-translate-css\"]\n",
      ".//link[@rel=\"alternate machine-translated-from\"]\n",
      ".//script[@src=\"qtranslate-x\"]\n",
      ".//a[@onclick][re:match(@onclick,\"doGTranslate\\(\\'.{2}\\|.{2}\\'\\)\")]\n",
      ".//meta[@name=\"translation-stats\"]\n",
      ".//a[@data-trp-gettext=\"\"]\n"
     ]
    },
    {
     "name": "stderr",
     "output_type": "stream",
     "text": [
      "100%|█████████████████████████████████████████████████████████████████████████████████████████████████████████████████████████████████████████████████████████████████████████████████████████████████████████████████████████| 3/3 [05:19<00:00, 106.57s/it]\n"
     ]
    },
    {
     "name": "stdout",
     "output_type": "stream",
     "text": [
      "66.37461165781133 195.3740188276861 0.25358150502907373\n",
      "<__main__.TagFilter0 object at 0x7f001bc8dd90>\n",
      "0.25358150502907373\n",
      "Counter({('meta', 'name', 'translation-stats'): 33, ('a', 'onclick', \"doGTranslate('en|en');return false;\"): 6, ('a', 'onclick', \"doGTranslate('en|ar');jQuery('div.switcher div.selected a').html(jQuery(this).html());return false;\"): 3, ('a', 'onclick', \"doGTranslate('ru|ru');return false;\"): 3, ('a', 'onclick', \"doGTranslate('pt|pt');return false;\"): 3, ('link', 'rel', 'alternate machine-translated-from'): 2, ('a', 'onclick', \"doGTranslate('es|en');return false;\"): 2, ('a', 'onclick', \"doGTranslate('es|ar');jQuery('div.switcher div.selected a').html(jQuery(this).html());return false;\"): 1, ('a', 'onclick', \"doGTranslate('ca|ca');return false;\"): 1, ('a', 'onclick', \"doGTranslate('vi|en');return false;\"): 1, ('a', 'onclick', \"doGTranslate('ru|en');return false;\"): 1, ('a', 'onclick', \"doGTranslate('de|de');return false;\"): 1, ('a', 'onclick', \"doGTranslate('en|af');jQuery('div.switcher div.selected a').html(jQuery(this).html());return false;\"): 1, ('a', 'onclick', \"doGTranslate('vi|en');jQuery('div.switcher div.selected a').html(jQuery(this).html());return false;\"): 1, ('a', 'onclick', \"doGTranslate('is|en');return false;\"): 1, ('a', 'onclick', \"doGTranslate('cs|en');return false;\"): 1, ('a', 'onclick', \"doGTranslate('es|pt');return false;\"): 1, ('a', 'onclick', \"doGTranslate('bs|bs');return false;\"): 1, ('a', 'onclick', \"doGTranslate('es|es');return false;\"): 1, ('a', 'onclick', \"doGTranslate('es|en');jQuery('div.switcher div.selected a').html(jQuery(this).html());return false;\"): 1, ('a', 'onclick', \"doGTranslate('hr|sq');jQuery('div.switcher div.selected a').html(jQuery(this).html());return false;\"): 1, ('a', 'onclick', \"doGTranslate('en|be');jQuery('div.switcher div.selected a').html(jQuery(this).html());return false;\"): 1, ('a', 'onclick', \"doGTranslate('id|en');jQuery('div.switcher div.selected a').html(jQuery(this).html());return false;\"): 1})\n",
      "Counter({'a': 33, 'meta': 33, 'link': 2})\n"
     ]
    },
    {
     "name": "stderr",
     "output_type": "stream",
     "text": [
      "100%|██████████████████████████████████████████████████████████████████████████████████████████████████████████████████████████████████████████████████████████████████████████████████████████████████████████████████████████| 3/3 [04:49<00:00, 96.60s/it]\n"
     ]
    },
    {
     "name": "stdout",
     "output_type": "stream",
     "text": [
      "51.498575427453034 191.93516834639013 0.21155068573934707\n",
      "<__main__.TagFilter1 object at 0x7f001b7038d0>\n",
      "0.21155068573934707\n",
      "Counter({('meta', 'name', 'translation-stats'): 33, ('div', 'id', 'qtranslate'): 7, ('a', 'onclick', \"doGTranslate('en|en')\"): 6, ('a', 'onclick', \"doGTranslate('en|ar')\"): 3, ('a', 'onclick', \"doGTranslate('ru|ru')\"): 3, ('a', 'onclick', \"doGTranslate('es|en')\"): 3, ('a', 'onclick', \"doGTranslate('pt|pt')\"): 3, ('link', 'rel', 'alternate machine-translated-from'): 2, ('a', 'onclick', \"doGTranslate('vi|en')\"): 2, ('a', 'onclick', \"doGTranslate('es|ar')\"): 1, ('a', 'onclick', \"doGTranslate('ca|ca')\"): 1, ('a', 'onclick', \"doGTranslate('ru|en')\"): 1, ('a', 'onclick', \"doGTranslate('de|de')\"): 1, ('a', 'onclick', \"doGTranslate('en|af')\"): 1, ('a', 'onclick', \"doGTranslate('is|en')\"): 1, ('a', 'onclick', \"doGTranslate('cs|en')\"): 1, ('a', 'onclick', \"doGTranslate('es|pt')\"): 1, ('a', 'onclick', \"doGTranslate('bs|bs')\"): 1, ('a', 'onclick', \"doGTranslate('es|es')\"): 1, ('a', 'onclick', \"doGTranslate('hr|sq')\"): 1, ('a', 'onclick', \"doGTranslate('en|be')\"): 1, ('a', 'onclick', \"doGTranslate('id|en')\"): 1})\n",
      "Counter({'a': 33, 'meta': 33, 'div': 7, 'link': 2})\n"
     ]
    },
    {
     "name": "stderr",
     "output_type": "stream",
     "text": [
      "100%|█████████████████████████████████████████████████████████████████████████████████████████████████████████████████████████████████████████████████████████████████████████████████████████████████████████████████████████| 3/3 [05:28<00:00, 109.60s/it]\n"
     ]
    },
    {
     "name": "stdout",
     "output_type": "stream",
     "text": [
      "92.25365000532474 190.14838147396222 0.32667488092092983\n",
      "<class '__main__.TagFilter5'>.//div[@id=\"mqtranslate\"] | .//div[@id=\"wporg-translate\"] | .//div[@id=\"wp-translate\"] | .//div[@id=\"qtranslate\"] | .//div[@id=\"weglot\"] | .//link[@id=\"wporg-translate-css\"] | .//link[@rel=\"alternate machine-translated-from\"] | .//script[@src=\"qtranslate-x\"] | .//a[@onclick][re:match(@onclick,\"doGTranslate\\(\\'.{2}\\|.{2}\\'\\)\")] | .//meta[@name=\"translation-stats\"] | .//a[@data-trp-gettext=\"\"]\n",
      "0.32667488092092983\n",
      "Counter({('meta', 'name', 'translation-stats'): 33, ('a', 'href', '#'): 29, ('a', 'href', 'http://vsaduidoma.com'): 2, ('link', 'rel', 'alternate machine-translated-from'): 1, ('link', 'href', '2_default8.htm'): 1, ('a', 'href', 'http://specialfinds.com/af'): 1, ('a', 'href', 'http://dalje.com/sq'): 1})\n",
      "Counter({'a': 33, 'meta': 33, 'link': 2})\n"
     ]
    },
    {
     "name": "stderr",
     "output_type": "stream",
     "text": [
      "100%|█████████████████████████████████████████████████████████████████████████████████████████████████████████████████████████████████████████████████████████████████████████████████████████████████████████████████████████| 3/3 [05:19<00:00, 106.51s/it]\n"
     ]
    },
    {
     "name": "stdout",
     "output_type": "stream",
     "text": [
      "86.54165783745702 190.9718150215922 0.31184668962509093\n",
      "<class '__main__.TagFilter2'>{('div', 'id'): '(mqtranslate)|(wporg-translate)|(wp-translate)|(qtranslate)|(weglot)', ('link', 'id'): '(wporg-translate-css)', ('link', 'rel'): '(alternate machine-translated-from)', ('script', 'src'): '(qtranslate-x)', ('a', 'onclick'): \"(doGTranslate\\\\(\\\\'.{2}\\\\|.{2}\\\\'\\\\))\", ('meta', 'name'): '(translation-stats)', ('a', 'data-trp-gettext'): '($^)'}\n",
      "0.31184668962509093\n",
      "Counter({('meta', 'name', 'translation-stats'): 33, ('a', 'onclick', \"doGTranslate('en|en');return false;\"): 6, ('div', 'id', 'qtranslate-2'): 4, ('a', 'onclick', \"doGTranslate('en|ar');jQuery('div.switcher div.selected a').html(jQuery(this).html());return false;\"): 3, ('a', 'onclick', \"doGTranslate('ru|ru');return false;\"): 3, ('a', 'onclick', \"doGTranslate('pt|pt');return false;\"): 3, ('link', 'rel', 'alternate machine-translated-from'): 2, ('a', 'onclick', \"doGTranslate('es|en');return false;\"): 2, ('a', 'onclick', \"doGTranslate('es|ar');jQuery('div.switcher div.selected a').html(jQuery(this).html());return false;\"): 1, ('a', 'onclick', \"doGTranslate('ca|ca');return false;\"): 1, ('div', 'id', 'qtranslate-6'): 1, ('a', 'onclick', \"doGTranslate('vi|en');return false;\"): 1, ('a', 'onclick', \"doGTranslate('ru|en');return false;\"): 1, ('a', 'onclick', \"doGTranslate('de|de');return false;\"): 1, ('a', 'onclick', \"doGTranslate('en|af');jQuery('div.switcher div.selected a').html(jQuery(this).html());return false;\"): 1, ('a', 'onclick', \"doGTranslate('vi|en');jQuery('div.switcher div.selected a').html(jQuery(this).html());return false;\"): 1, ('a', 'onclick', \"doGTranslate('is|en');return false;\"): 1, ('a', 'onclick', \"doGTranslate('cs|en');return false;\"): 1, ('a', 'onclick', \"doGTranslate('es|pt');return false;\"): 1, ('a', 'onclick', \"doGTranslate('bs|bs');return false;\"): 1, ('a', 'onclick', \"doGTranslate('es|es');return false;\"): 1, ('a', 'onclick', \"doGTranslate('es|en');jQuery('div.switcher div.selected a').html(jQuery(this).html());return false;\"): 1, ('a', 'onclick', \"doGTranslate('hr|sq');jQuery('div.switcher div.selected a').html(jQuery(this).html());return false;\"): 1, ('a', 'onclick', \"doGTranslate('en|be');jQuery('div.switcher div.selected a').html(jQuery(this).html());return false;\"): 1, ('div', 'id', 'qtranslate-5'): 1, ('div', 'id', 'qtranslateslug-6'): 1, ('a', 'onclick', \"doGTranslate('id|en');jQuery('div.switcher div.selected a').html(jQuery(this).html());return false;\"): 1})\n",
      "Counter({'a': 33, 'meta': 33, 'div': 7, 'link': 2})\n"
     ]
    },
    {
     "name": "stderr",
     "output_type": "stream",
     "text": [
      "100%|█████████████████████████████████████████████████████████████████████████████████████████████████████████████████████████████████████████████████████████████████████████████████████████████████████████████████████████| 3/3 [05:21<00:00, 107.06s/it]\n"
     ]
    },
    {
     "name": "stdout",
     "output_type": "stream",
     "text": [
      "88.51841830508783 190.77182695094962 0.31694060143038355\n",
      "<class '__main__.TagFilter2'>{('div', 'id'): '(mqtranslate)|(wporg-translate)|(wp-translate)|(qtranslate)|(weglot)', ('link', 'id'): '(wporg-translate-css)', ('link', 'rel'): '(alternate machine-translated-from)', ('script', 'src'): '(qtranslate-x)', ('a', 'onclick'): \"(doGTranslate\\\\(\\\\'.{2}\\\\|.{2}\\\\'\\\\))\", ('meta', 'name'): '(translation-stats)', ('a', 'data-trp-gettext'): '($^)'}\n",
      "0.31694060143038355\n",
      "Counter({('meta', 'name', 'translation-stats'): 33, ('a', 'onclick', \"doGTranslate('en|en');return false;\"): 6, ('div', 'id', 'qtranslate-2'): 4, ('a', 'onclick', \"doGTranslate('en|ar');jQuery('div.switcher div.selected a').html(jQuery(this).html());return false;\"): 3, ('a', 'onclick', \"doGTranslate('ru|ru');return false;\"): 3, ('a', 'onclick', \"doGTranslate('pt|pt');return false;\"): 3, ('link', 'rel', 'alternate machine-translated-from'): 2, ('a', 'onclick', \"doGTranslate('es|en');return false;\"): 2, ('a', 'onclick', \"doGTranslate('es|ar');jQuery('div.switcher div.selected a').html(jQuery(this).html());return false;\"): 1, ('a', 'onclick', \"doGTranslate('ca|ca');return false;\"): 1, ('div', 'id', 'qtranslate-6'): 1, ('a', 'onclick', \"doGTranslate('vi|en');return false;\"): 1, ('a', 'onclick', \"doGTranslate('ru|en');return false;\"): 1, ('a', 'onclick', \"doGTranslate('de|de');return false;\"): 1, ('a', 'onclick', \"doGTranslate('en|af');jQuery('div.switcher div.selected a').html(jQuery(this).html());return false;\"): 1, ('a', 'onclick', \"doGTranslate('vi|en');jQuery('div.switcher div.selected a').html(jQuery(this).html());return false;\"): 1, ('a', 'onclick', \"doGTranslate('is|en');return false;\"): 1, ('a', 'onclick', \"doGTranslate('cs|en');return false;\"): 1, ('a', 'onclick', \"doGTranslate('es|pt');return false;\"): 1, ('a', 'onclick', \"doGTranslate('bs|bs');return false;\"): 1, ('a', 'onclick', \"doGTranslate('es|es');return false;\"): 1, ('a', 'onclick', \"doGTranslate('es|en');jQuery('div.switcher div.selected a').html(jQuery(this).html());return false;\"): 1, ('a', 'onclick', \"doGTranslate('hr|sq');jQuery('div.switcher div.selected a').html(jQuery(this).html());return false;\"): 1, ('a', 'onclick', \"doGTranslate('en|be');jQuery('div.switcher div.selected a').html(jQuery(this).html());return false;\"): 1, ('div', 'id', 'qtranslate-5'): 1, ('div', 'id', 'qtranslateslug-6'): 1, ('a', 'onclick', \"doGTranslate('id|en');jQuery('div.switcher div.selected a').html(jQuery(this).html());return false;\"): 1})\n",
      "Counter({'a': 33, 'meta': 33, 'div': 7, 'link': 2})\n"
     ]
    },
    {
     "name": "stderr",
     "output_type": "stream",
     "text": [
      "100%|█████████████████████████████████████████████████████████████████████████████████████████████████████████████████████████████████████████████████████████████████████████████████████████████████████████████████████████| 3/3 [05:00<00:00, 100.28s/it]\n"
     ]
    },
    {
     "name": "stdout",
     "output_type": "stream",
     "text": [
      "64.92188449320383 190.2617568167625 0.2544124073155009\n",
      "<class '__main__.TagFilter3'>.//div[@id][re:match(@id,\"(mqtranslate)|(wporg-translate)|(wp-translate)|(qtranslate)|(weglot)\")]\n",
      ".//link[@id][re:match(@id,\"(wporg-translate-css)\")]\n",
      ".//link[@rel][re:match(@rel,\"(alternate machine-translated-from)\")]\n",
      ".//script[@src][re:match(@src,\"(qtranslate-x)\")]\n",
      ".//a[@onclick][re:match(@onclick,\"(doGTranslate\\(\\'.{2}\\|.{2}\\'\\))\")]\n",
      ".//meta[@name][re:match(@name,\"(translation-stats)\")]\n",
      ".//a[@data-trp-gettext][re:match(@data-trp-gettext,\"($^)\")]\n",
      "0.2544124073155009\n",
      "Counter({('meta', 'name', 'translation-stats'): 33, ('a', 'href', '#'): 29, ('div', 'id', 'qtranslate-2'): 2, ('a', 'href', 'http://vsaduidoma.com'): 2, ('link', 'rel', 'alternate machine-translated-from'): 1, ('div', 'id', 'qtranslate-6'): 1, ('link', 'href', '2_default8.htm'): 1, ('a', 'href', 'http://specialfinds.com/af'): 1, ('div', 'class', ' bd-block-18 bd-own-margins widget qtranxs_widget'): 1, ('a', 'href', 'http://dalje.com/sq'): 1, ('div', 'class', 'widget qtranxs_widget'): 1, ('div', 'id', 'qtranslate-5'): 1, ('div', 'id', 'qtranslateslug-6'): 1})\n",
      "Counter({'a': 33, 'meta': 33, 'div': 7, 'link': 2})\n"
     ]
    },
    {
     "name": "stderr",
     "output_type": "stream",
     "text": [
      "100%|█████████████████████████████████████████████████████████████████████████████████████████████████████████████████████████████████████████████████████████████████████████████████████████████████████████████████████████| 3/3 [05:02<00:00, 100.89s/it]\n"
     ]
    },
    {
     "name": "stdout",
     "output_type": "stream",
     "text": [
      "66.9458127807593 190.14872187760193 0.26039376087756944\n",
      "<class '__main__.TagFilter3'>.//div[@id and re:match(@id,\"(mqtranslate)|(wporg-translate)|(wp-translate)|(qtranslate)|(weglot)\")]\n",
      ".//link[@id and re:match(@id,\"(wporg-translate-css)\")]\n",
      ".//link[@rel and re:match(@rel,\"(alternate machine-translated-from)\")]\n",
      ".//script[@src and re:match(@src,\"(qtranslate-x)\")]\n",
      ".//a[@onclick and re:match(@onclick,\"(doGTranslate\\(\\'.{2}\\|.{2}\\'\\))\")]\n",
      ".//meta[@name and re:match(@name,\"(translation-stats)\")]\n",
      ".//a[@data-trp-gettext and re:match(@data-trp-gettext,\"($^)\")]\n",
      "0.26039376087756944\n",
      "Counter({('meta', 'name', 'translation-stats'): 33, ('a', 'href', '#'): 29, ('div', 'id', 'qtranslate-2'): 2, ('a', 'href', 'http://vsaduidoma.com'): 2, ('link', 'rel', 'alternate machine-translated-from'): 1, ('div', 'id', 'qtranslate-6'): 1, ('link', 'href', '2_default8.htm'): 1, ('a', 'href', 'http://specialfinds.com/af'): 1, ('div', 'class', ' bd-block-18 bd-own-margins widget qtranxs_widget'): 1, ('a', 'href', 'http://dalje.com/sq'): 1, ('div', 'class', 'widget qtranxs_widget'): 1, ('div', 'id', 'qtranslate-5'): 1, ('div', 'id', 'qtranslateslug-6'): 1})\n",
      "Counter({'a': 33, 'meta': 33, 'div': 7, 'link': 2})\n"
     ]
    },
    {
     "name": "stderr",
     "output_type": "stream",
     "text": [
      "100%|█████████████████████████████████████████████████████████████████████████████████████████████████████████████████████████████████████████████████████████████████████████████████████████████████████████████████████████| 3/3 [05:02<00:00, 100.86s/it]\n"
     ]
    },
    {
     "name": "stdout",
     "output_type": "stream",
     "text": [
      "67.2351847392274 189.8764123650035 0.2615019528347872\n",
      "<class '__main__.TagFilter31'>.//div[@id][re:match(@id,\"(mqtranslate)|(wporg-translate)|(wp-translate)|(qtranslate)|(weglot)\")]/@id\n",
      ".//link[@id][re:match(@id,\"(wporg-translate-css)\")]/@id\n",
      ".//link[@rel][re:match(@rel,\"(alternate machine-translated-from)\")]/@rel\n",
      ".//script[@src][re:match(@src,\"(qtranslate-x)\")]/@src\n",
      ".//a[@onclick][re:match(@onclick,\"(doGTranslate\\(\\'.{2}\\|.{2}\\'\\))\")]/@onclick\n",
      ".//meta[@name][re:match(@name,\"(translation-stats)\")]/@name\n",
      ".//a[@data-trp-gettext][re:match(@data-trp-gettext,\"($^)\")]/@data-trp-gettext\n",
      "0.2615019528347872\n",
      "Counter({('meta', 'name', 'translation-stats'): 33, ('a', 'onclick', \"doGTranslate('en|en');return false;\"): 6, ('div', 'id', 'qtranslate-2'): 4, ('a', 'onclick', \"doGTranslate('en|ar');jQuery('div.switcher div.selected a').html(jQuery(this).html());return false;\"): 3, ('a', 'onclick', \"doGTranslate('ru|ru');return false;\"): 3, ('a', 'onclick', \"doGTranslate('pt|pt');return false;\"): 3, ('link', 'rel', 'alternate machine-translated-from'): 2, ('a', 'onclick', \"doGTranslate('es|en');return false;\"): 2, ('a', 'onclick', \"doGTranslate('es|ar');jQuery('div.switcher div.selected a').html(jQuery(this).html());return false;\"): 1, ('a', 'onclick', \"doGTranslate('ca|ca');return false;\"): 1, ('div', 'id', 'qtranslate-6'): 1, ('a', 'onclick', \"doGTranslate('vi|en');return false;\"): 1, ('a', 'onclick', \"doGTranslate('ru|en');return false;\"): 1, ('a', 'onclick', \"doGTranslate('de|de');return false;\"): 1, ('a', 'onclick', \"doGTranslate('en|af');jQuery('div.switcher div.selected a').html(jQuery(this).html());return false;\"): 1, ('a', 'onclick', \"doGTranslate('vi|en');jQuery('div.switcher div.selected a').html(jQuery(this).html());return false;\"): 1, ('a', 'onclick', \"doGTranslate('is|en');return false;\"): 1, ('a', 'onclick', \"doGTranslate('cs|en');return false;\"): 1, ('a', 'onclick', \"doGTranslate('es|pt');return false;\"): 1, ('a', 'onclick', \"doGTranslate('bs|bs');return false;\"): 1, ('a', 'onclick', \"doGTranslate('es|es');return false;\"): 1, ('a', 'onclick', \"doGTranslate('es|en');jQuery('div.switcher div.selected a').html(jQuery(this).html());return false;\"): 1, ('a', 'onclick', \"doGTranslate('hr|sq');jQuery('div.switcher div.selected a').html(jQuery(this).html());return false;\"): 1, ('a', 'onclick', \"doGTranslate('en|be');jQuery('div.switcher div.selected a').html(jQuery(this).html());return false;\"): 1, ('div', 'id', 'qtranslate-5'): 1, ('div', 'id', 'qtranslateslug-6'): 1, ('a', 'onclick', \"doGTranslate('id|en');jQuery('div.switcher div.selected a').html(jQuery(this).html());return false;\"): 1})\n",
      "Counter({'a': 33, 'meta': 33, 'div': 7, 'link': 2})\n"
     ]
    },
    {
     "name": "stderr",
     "output_type": "stream",
     "text": [
      "100%|█████████████████████████████████████████████████████████████████████████████████████████████████████████████████████████████████████████████████████████████████████████████████████████████████████████████████████████| 3/3 [05:05<00:00, 101.81s/it]\n"
     ]
    },
    {
     "name": "stdout",
     "output_type": "stream",
     "text": [
      "69.55263154290151 190.26708804396912 0.26769573785043904\n",
      "<class '__main__.TagFilter31'>.//div[@id and re:match(@id,\"(mqtranslate)|(wporg-translate)|(wp-translate)|(qtranslate)|(weglot)\")]/@id\n",
      ".//link[@id and re:match(@id,\"(wporg-translate-css)\")]/@id\n",
      ".//link[@rel and re:match(@rel,\"(alternate machine-translated-from)\")]/@rel\n",
      ".//script[@src and re:match(@src,\"(qtranslate-x)\")]/@src\n",
      ".//a[@onclick and re:match(@onclick,\"(doGTranslate\\(\\'.{2}\\|.{2}\\'\\))\")]/@onclick\n",
      ".//meta[@name and re:match(@name,\"(translation-stats)\")]/@name\n",
      ".//a[@data-trp-gettext and re:match(@data-trp-gettext,\"($^)\")]/@data-trp-gettext\n",
      "0.26769573785043904\n",
      "Counter({('meta', 'name', 'translation-stats'): 33, ('a', 'onclick', \"doGTranslate('en|en');return false;\"): 6, ('div', 'id', 'qtranslate-2'): 4, ('a', 'onclick', \"doGTranslate('en|ar');jQuery('div.switcher div.selected a').html(jQuery(this).html());return false;\"): 3, ('a', 'onclick', \"doGTranslate('ru|ru');return false;\"): 3, ('a', 'onclick', \"doGTranslate('pt|pt');return false;\"): 3, ('link', 'rel', 'alternate machine-translated-from'): 2, ('a', 'onclick', \"doGTranslate('es|en');return false;\"): 2, ('a', 'onclick', \"doGTranslate('es|ar');jQuery('div.switcher div.selected a').html(jQuery(this).html());return false;\"): 1, ('a', 'onclick', \"doGTranslate('ca|ca');return false;\"): 1, ('div', 'id', 'qtranslate-6'): 1, ('a', 'onclick', \"doGTranslate('vi|en');return false;\"): 1, ('a', 'onclick', \"doGTranslate('ru|en');return false;\"): 1, ('a', 'onclick', \"doGTranslate('de|de');return false;\"): 1, ('a', 'onclick', \"doGTranslate('en|af');jQuery('div.switcher div.selected a').html(jQuery(this).html());return false;\"): 1, ('a', 'onclick', \"doGTranslate('vi|en');jQuery('div.switcher div.selected a').html(jQuery(this).html());return false;\"): 1, ('a', 'onclick', \"doGTranslate('is|en');return false;\"): 1, ('a', 'onclick', \"doGTranslate('cs|en');return false;\"): 1, ('a', 'onclick', \"doGTranslate('es|pt');return false;\"): 1, ('a', 'onclick', \"doGTranslate('bs|bs');return false;\"): 1, ('a', 'onclick', \"doGTranslate('es|es');return false;\"): 1, ('a', 'onclick', \"doGTranslate('es|en');jQuery('div.switcher div.selected a').html(jQuery(this).html());return false;\"): 1, ('a', 'onclick', \"doGTranslate('hr|sq');jQuery('div.switcher div.selected a').html(jQuery(this).html());return false;\"): 1, ('a', 'onclick', \"doGTranslate('en|be');jQuery('div.switcher div.selected a').html(jQuery(this).html());return false;\"): 1, ('div', 'id', 'qtranslate-5'): 1, ('div', 'id', 'qtranslateslug-6'): 1, ('a', 'onclick', \"doGTranslate('id|en');jQuery('div.switcher div.selected a').html(jQuery(this).html());return false;\"): 1})\n",
      "Counter({'a': 33, 'meta': 33, 'div': 7, 'link': 2})\n"
     ]
    },
    {
     "name": "stderr",
     "output_type": "stream",
     "text": [
      "100%|██████████████████████████████████████████████████████████████████████████████████████████████████████████████████████████████████████████████████████████████████████████████████████████████████████████████████████████| 3/3 [04:59<00:00, 99.67s/it]\n"
     ]
    },
    {
     "name": "stdout",
     "output_type": "stream",
     "text": [
      "63.46736201143358 190.0003077116562 0.2503962816274394\n",
      "<class '__main__.TagFilter4'>.//div[@id][re:match(@id,\"(mqtranslate)|(wporg-translate)|(wp-translate)|(qtranslate)|(weglot)\")] | .//link[@id][re:match(@id,\"(wporg-translate-css)\")] | .//link[@rel][re:match(@rel,\"(alternate machine-translated-from)\")] | .//script[@src][re:match(@src,\"(qtranslate-x)\")] | .//a[@onclick][re:match(@onclick,\"(doGTranslate\\(\\'.{2}\\|.{2}\\'\\))\")] | .//meta[@name][re:match(@name,\"(translation-stats)\")] | .//a[@data-trp-gettext][re:match(@data-trp-gettext,\"($^)\")]\n",
      "0.2503962816274394\n",
      "Counter({('meta', 'name', 'translation-stats'): 33, ('a', 'href', '#'): 29, ('div', 'id', 'qtranslate-2'): 2, ('a', 'href', 'http://vsaduidoma.com'): 2, ('link', 'rel', 'alternate machine-translated-from'): 1, ('div', 'id', 'qtranslate-6'): 1, ('link', 'href', '2_default8.htm'): 1, ('a', 'href', 'http://specialfinds.com/af'): 1, ('div', 'class', ' bd-block-18 bd-own-margins widget qtranxs_widget'): 1, ('a', 'href', 'http://dalje.com/sq'): 1, ('div', 'class', 'widget qtranxs_widget'): 1, ('div', 'id', 'qtranslate-5'): 1, ('div', 'id', 'qtranslateslug-6'): 1})\n",
      "Counter({'a': 33, 'meta': 33, 'div': 7, 'link': 2})\n"
     ]
    },
    {
     "name": "stderr",
     "output_type": "stream",
     "text": [
      "100%|█████████████████████████████████████████████████████████████████████████████████████████████████████████████████████████████████████████████████████████████████████████████████████████████████████████████████████████| 3/3 [05:01<00:00, 100.33s/it]"
     ]
    },
    {
     "name": "stdout",
     "output_type": "stream",
     "text": [
      "65.42368156393059 190.09681025519967 0.25604084078798905\n",
      "<class '__main__.TagFilter4'>.//div[@id and re:match(@id,\"(mqtranslate)|(wporg-translate)|(wp-translate)|(qtranslate)|(weglot)\")] | .//link[@id and re:match(@id,\"(wporg-translate-css)\")] | .//link[@rel and re:match(@rel,\"(alternate machine-translated-from)\")] | .//script[@src and re:match(@src,\"(qtranslate-x)\")] | .//a[@onclick and re:match(@onclick,\"(doGTranslate\\(\\'.{2}\\|.{2}\\'\\))\")] | .//meta[@name and re:match(@name,\"(translation-stats)\")] | .//a[@data-trp-gettext and re:match(@data-trp-gettext,\"($^)\")]\n",
      "0.25604084078798905\n",
      "Counter({('meta', 'name', 'translation-stats'): 33, ('a', 'href', '#'): 29, ('div', 'id', 'qtranslate-2'): 2, ('a', 'href', 'http://vsaduidoma.com'): 2, ('link', 'rel', 'alternate machine-translated-from'): 1, ('div', 'id', 'qtranslate-6'): 1, ('link', 'href', '2_default8.htm'): 1, ('a', 'href', 'http://specialfinds.com/af'): 1, ('div', 'class', ' bd-block-18 bd-own-margins widget qtranxs_widget'): 1, ('a', 'href', 'http://dalje.com/sq'): 1, ('div', 'class', 'widget qtranxs_widget'): 1, ('div', 'id', 'qtranslate-5'): 1, ('div', 'id', 'qtranslateslug-6'): 1})\n",
      "Counter({'a': 33, 'meta': 33, 'div': 7, 'link': 2})\n"
     ]
    },
    {
     "name": "stderr",
     "output_type": "stream",
     "text": [
      "\n"
     ]
    }
   ],
   "source": [
    "matchers = [tf(tagfilters) for tf in (TagFilter0, TagFilter1, TagFilter5)] + \\\n",
    "    [tf(tagfilters, use_and) for tf in (TagFilter2, TagFilter3, TagFilter31, TagFilter4) \n",
    "        for use_and in (False, True)]\n",
    "\n",
    "\n",
    "for matcher in matchers:\n",
    "    dur, cnt, cnt1 = test_matcher(matcher)\n",
    "    print(matcher)    \n",
    "    print(dur)\n",
    "    print(cnt1)\n",
    "    print(cnt)"
   ]
  },
  {
   "cell_type": "code",
   "execution_count": null,
   "id": "e9be9576",
   "metadata": {},
   "outputs": [],
   "source": []
  }
 ],
 "metadata": {
  "kernelspec": {
   "display_name": "Python [conda env:trafilatura]",
   "language": "python",
   "name": "conda-env-trafilatura-py"
  },
  "language_info": {
   "codemirror_mode": {
    "name": "ipython",
    "version": 3
   },
   "file_extension": ".py",
   "mimetype": "text/x-python",
   "name": "python",
   "nbconvert_exporter": "python",
   "pygments_lexer": "ipython3",
   "version": "3.11.5"
  }
 },
 "nbformat": 4,
 "nbformat_minor": 5
}
